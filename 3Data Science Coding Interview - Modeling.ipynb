{
 "cells": [
  {
   "cell_type": "markdown",
   "metadata": {},
   "source": [
    "# Data"
   ]
  },
  {
   "cell_type": "markdown",
   "metadata": {},
   "source": [
    "Read in the three files: clients.csv, loans.csv, payments.csv. These files are related by the following:\n",
    "1. The clients file is the parent of the loans file. Each client can have multiple distinct loans. The client_id column links the two files\n",
    "2. The loans file is the child of the clients file and the parent of the payments file. Each loan can have multiple distinct payments associated with it. The loan_id column links the two files."
   ]
  },
  {
   "cell_type": "markdown",
   "metadata": {},
   "source": [
    "With the above datasets, answer the following questions. Show the steps taken to produce your final answer."
   ]
  },
  {
   "cell_type": "code",
   "execution_count": 227,
   "metadata": {},
   "outputs": [],
   "source": [
    "import pandas as pd\n",
    "import matplotlib.pyplot as plt\n",
    "import numpy as np"
   ]
  },
  {
   "cell_type": "code",
   "execution_count": 3,
   "metadata": {},
   "outputs": [
    {
     "data": {
      "text/html": [
       "<div>\n",
       "<style scoped>\n",
       "    .dataframe tbody tr th:only-of-type {\n",
       "        vertical-align: middle;\n",
       "    }\n",
       "\n",
       "    .dataframe tbody tr th {\n",
       "        vertical-align: top;\n",
       "    }\n",
       "\n",
       "    .dataframe thead th {\n",
       "        text-align: right;\n",
       "    }\n",
       "</style>\n",
       "<table border=\"1\" class=\"dataframe\">\n",
       "  <thead>\n",
       "    <tr style=\"text-align: right;\">\n",
       "      <th></th>\n",
       "      <th>client_id</th>\n",
       "      <th>joined</th>\n",
       "      <th>income</th>\n",
       "      <th>credit_score</th>\n",
       "    </tr>\n",
       "  </thead>\n",
       "  <tbody>\n",
       "    <tr>\n",
       "      <th>0</th>\n",
       "      <td>46109</td>\n",
       "      <td>2002-04-16</td>\n",
       "      <td>172677</td>\n",
       "      <td>527</td>\n",
       "    </tr>\n",
       "    <tr>\n",
       "      <th>1</th>\n",
       "      <td>49545</td>\n",
       "      <td>2007-11-14</td>\n",
       "      <td>104564</td>\n",
       "      <td>770</td>\n",
       "    </tr>\n",
       "    <tr>\n",
       "      <th>2</th>\n",
       "      <td>41480</td>\n",
       "      <td>2013-03-11</td>\n",
       "      <td>122607</td>\n",
       "      <td>585</td>\n",
       "    </tr>\n",
       "    <tr>\n",
       "      <th>3</th>\n",
       "      <td>46180</td>\n",
       "      <td>2001-11-06</td>\n",
       "      <td>43851</td>\n",
       "      <td>562</td>\n",
       "    </tr>\n",
       "    <tr>\n",
       "      <th>4</th>\n",
       "      <td>25707</td>\n",
       "      <td>2006-10-06</td>\n",
       "      <td>211422</td>\n",
       "      <td>621</td>\n",
       "    </tr>\n",
       "  </tbody>\n",
       "</table>\n",
       "</div>"
      ],
      "text/plain": [
       "   client_id      joined  income  credit_score\n",
       "0      46109  2002-04-16  172677           527\n",
       "1      49545  2007-11-14  104564           770\n",
       "2      41480  2013-03-11  122607           585\n",
       "3      46180  2001-11-06   43851           562\n",
       "4      25707  2006-10-06  211422           621"
      ]
     },
     "execution_count": 3,
     "metadata": {},
     "output_type": "execute_result"
    }
   ],
   "source": [
    "df_clients = pd.read_csv('clients.csv')\n",
    "df_clients.head()"
   ]
  },
  {
   "cell_type": "code",
   "execution_count": 26,
   "metadata": {},
   "outputs": [
    {
     "data": {
      "text/plain": [
       "25"
      ]
     },
     "execution_count": 26,
     "metadata": {},
     "output_type": "execute_result"
    }
   ],
   "source": [
    "len(df_clients['client_id'].unique())"
   ]
  },
  {
   "cell_type": "code",
   "execution_count": 4,
   "metadata": {},
   "outputs": [
    {
     "data": {
      "text/html": [
       "<div>\n",
       "<style scoped>\n",
       "    .dataframe tbody tr th:only-of-type {\n",
       "        vertical-align: middle;\n",
       "    }\n",
       "\n",
       "    .dataframe tbody tr th {\n",
       "        vertical-align: top;\n",
       "    }\n",
       "\n",
       "    .dataframe thead th {\n",
       "        text-align: right;\n",
       "    }\n",
       "</style>\n",
       "<table border=\"1\" class=\"dataframe\">\n",
       "  <thead>\n",
       "    <tr style=\"text-align: right;\">\n",
       "      <th></th>\n",
       "      <th>client_id</th>\n",
       "      <th>loan_type</th>\n",
       "      <th>loan_amount</th>\n",
       "      <th>repaid</th>\n",
       "      <th>loan_id</th>\n",
       "      <th>loan_start</th>\n",
       "      <th>loan_end</th>\n",
       "      <th>rate</th>\n",
       "    </tr>\n",
       "  </thead>\n",
       "  <tbody>\n",
       "    <tr>\n",
       "      <th>0</th>\n",
       "      <td>46109</td>\n",
       "      <td>home</td>\n",
       "      <td>13672</td>\n",
       "      <td>0</td>\n",
       "      <td>10243</td>\n",
       "      <td>2002-04-16</td>\n",
       "      <td>2003-12-20</td>\n",
       "      <td>2.15</td>\n",
       "    </tr>\n",
       "    <tr>\n",
       "      <th>1</th>\n",
       "      <td>46109</td>\n",
       "      <td>credit</td>\n",
       "      <td>9794</td>\n",
       "      <td>0</td>\n",
       "      <td>10984</td>\n",
       "      <td>2003-10-21</td>\n",
       "      <td>2005-07-17</td>\n",
       "      <td>1.25</td>\n",
       "    </tr>\n",
       "    <tr>\n",
       "      <th>2</th>\n",
       "      <td>46109</td>\n",
       "      <td>home</td>\n",
       "      <td>12734</td>\n",
       "      <td>1</td>\n",
       "      <td>10990</td>\n",
       "      <td>2006-02-01</td>\n",
       "      <td>2007-07-05</td>\n",
       "      <td>0.68</td>\n",
       "    </tr>\n",
       "    <tr>\n",
       "      <th>3</th>\n",
       "      <td>46109</td>\n",
       "      <td>cash</td>\n",
       "      <td>12518</td>\n",
       "      <td>1</td>\n",
       "      <td>10596</td>\n",
       "      <td>2010-12-08</td>\n",
       "      <td>2013-05-05</td>\n",
       "      <td>1.24</td>\n",
       "    </tr>\n",
       "    <tr>\n",
       "      <th>4</th>\n",
       "      <td>46109</td>\n",
       "      <td>credit</td>\n",
       "      <td>14049</td>\n",
       "      <td>1</td>\n",
       "      <td>11415</td>\n",
       "      <td>2010-07-07</td>\n",
       "      <td>2012-05-21</td>\n",
       "      <td>3.13</td>\n",
       "    </tr>\n",
       "  </tbody>\n",
       "</table>\n",
       "</div>"
      ],
      "text/plain": [
       "   client_id loan_type  loan_amount  repaid  loan_id  loan_start    loan_end  \\\n",
       "0      46109      home        13672       0    10243  2002-04-16  2003-12-20   \n",
       "1      46109    credit         9794       0    10984  2003-10-21  2005-07-17   \n",
       "2      46109      home        12734       1    10990  2006-02-01  2007-07-05   \n",
       "3      46109      cash        12518       1    10596  2010-12-08  2013-05-05   \n",
       "4      46109    credit        14049       1    11415  2010-07-07  2012-05-21   \n",
       "\n",
       "   rate  \n",
       "0  2.15  \n",
       "1  1.25  \n",
       "2  0.68  \n",
       "3  1.24  \n",
       "4  3.13  "
      ]
     },
     "execution_count": 4,
     "metadata": {},
     "output_type": "execute_result"
    }
   ],
   "source": [
    "df_loans = pd.read_csv('loans.csv')\n",
    "df_loans.head()"
   ]
  },
  {
   "cell_type": "code",
   "execution_count": 160,
   "metadata": {},
   "outputs": [
    {
     "data": {
      "text/html": [
       "<div>\n",
       "<style scoped>\n",
       "    .dataframe tbody tr th:only-of-type {\n",
       "        vertical-align: middle;\n",
       "    }\n",
       "\n",
       "    .dataframe tbody tr th {\n",
       "        vertical-align: top;\n",
       "    }\n",
       "\n",
       "    .dataframe thead th {\n",
       "        text-align: right;\n",
       "    }\n",
       "</style>\n",
       "<table border=\"1\" class=\"dataframe\">\n",
       "  <thead>\n",
       "    <tr style=\"text-align: right;\">\n",
       "      <th></th>\n",
       "      <th>loan_id</th>\n",
       "      <th>payment_amount</th>\n",
       "      <th>payment_date</th>\n",
       "      <th>missed</th>\n",
       "    </tr>\n",
       "  </thead>\n",
       "  <tbody>\n",
       "    <tr>\n",
       "      <th>0</th>\n",
       "      <td>10243</td>\n",
       "      <td>2369</td>\n",
       "      <td>2002-05-31</td>\n",
       "      <td>1</td>\n",
       "    </tr>\n",
       "    <tr>\n",
       "      <th>1</th>\n",
       "      <td>10243</td>\n",
       "      <td>2439</td>\n",
       "      <td>2002-06-18</td>\n",
       "      <td>1</td>\n",
       "    </tr>\n",
       "    <tr>\n",
       "      <th>2</th>\n",
       "      <td>10243</td>\n",
       "      <td>2662</td>\n",
       "      <td>2002-06-29</td>\n",
       "      <td>0</td>\n",
       "    </tr>\n",
       "    <tr>\n",
       "      <th>3</th>\n",
       "      <td>10243</td>\n",
       "      <td>2268</td>\n",
       "      <td>2002-07-20</td>\n",
       "      <td>0</td>\n",
       "    </tr>\n",
       "    <tr>\n",
       "      <th>4</th>\n",
       "      <td>10243</td>\n",
       "      <td>2027</td>\n",
       "      <td>2002-07-31</td>\n",
       "      <td>1</td>\n",
       "    </tr>\n",
       "  </tbody>\n",
       "</table>\n",
       "</div>"
      ],
      "text/plain": [
       "   loan_id  payment_amount payment_date  missed\n",
       "0    10243            2369   2002-05-31       1\n",
       "1    10243            2439   2002-06-18       1\n",
       "2    10243            2662   2002-06-29       0\n",
       "3    10243            2268   2002-07-20       0\n",
       "4    10243            2027   2002-07-31       1"
      ]
     },
     "execution_count": 160,
     "metadata": {},
     "output_type": "execute_result"
    }
   ],
   "source": [
    "df_payments = pd.read_csv('payments.csv')\n",
    "df_payments.head()"
   ]
  },
  {
   "cell_type": "markdown",
   "metadata": {},
   "source": [
    "# Section 1 Questions"
   ]
  },
  {
   "cell_type": "markdown",
   "metadata": {},
   "source": [
    "1. Give the 5 client IDs with the highest mean payment amount\n",
    "2. How many unique loans have been given out to clients who joined prior to 2001?\n",
    "3. What is the mean number of payments missed by clients with a credit score of less than 700 and who have missed more than 50 payments?"
   ]
  },
  {
   "cell_type": "code",
   "execution_count": 8,
   "metadata": {},
   "outputs": [
    {
     "data": {
      "text/html": [
       "<div>\n",
       "<style scoped>\n",
       "    .dataframe tbody tr th:only-of-type {\n",
       "        vertical-align: middle;\n",
       "    }\n",
       "\n",
       "    .dataframe tbody tr th {\n",
       "        vertical-align: top;\n",
       "    }\n",
       "\n",
       "    .dataframe thead th {\n",
       "        text-align: right;\n",
       "    }\n",
       "</style>\n",
       "<table border=\"1\" class=\"dataframe\">\n",
       "  <thead>\n",
       "    <tr style=\"text-align: right;\">\n",
       "      <th></th>\n",
       "      <th>client_id</th>\n",
       "      <th>joined</th>\n",
       "      <th>income</th>\n",
       "      <th>credit_score</th>\n",
       "    </tr>\n",
       "  </thead>\n",
       "  <tbody>\n",
       "  </tbody>\n",
       "</table>\n",
       "</div>"
      ],
      "text/plain": [
       "Empty DataFrame\n",
       "Columns: [client_id, joined, income, credit_score]\n",
       "Index: []"
      ]
     },
     "execution_count": 8,
     "metadata": {},
     "output_type": "execute_result"
    }
   ],
   "source": [
    "#Check if there are any dupplicated rows\n",
    "df_clients[df_clients.duplicated()]"
   ]
  },
  {
   "cell_type": "code",
   "execution_count": 10,
   "metadata": {},
   "outputs": [
    {
     "data": {
      "text/html": [
       "<div>\n",
       "<style scoped>\n",
       "    .dataframe tbody tr th:only-of-type {\n",
       "        vertical-align: middle;\n",
       "    }\n",
       "\n",
       "    .dataframe tbody tr th {\n",
       "        vertical-align: top;\n",
       "    }\n",
       "\n",
       "    .dataframe thead th {\n",
       "        text-align: right;\n",
       "    }\n",
       "</style>\n",
       "<table border=\"1\" class=\"dataframe\">\n",
       "  <thead>\n",
       "    <tr style=\"text-align: right;\">\n",
       "      <th></th>\n",
       "      <th>client_id</th>\n",
       "      <th>loan_type</th>\n",
       "      <th>loan_amount</th>\n",
       "      <th>repaid</th>\n",
       "      <th>loan_id</th>\n",
       "      <th>loan_start</th>\n",
       "      <th>loan_end</th>\n",
       "      <th>rate</th>\n",
       "    </tr>\n",
       "  </thead>\n",
       "  <tbody>\n",
       "  </tbody>\n",
       "</table>\n",
       "</div>"
      ],
      "text/plain": [
       "Empty DataFrame\n",
       "Columns: [client_id, loan_type, loan_amount, repaid, loan_id, loan_start, loan_end, rate]\n",
       "Index: []"
      ]
     },
     "execution_count": 10,
     "metadata": {},
     "output_type": "execute_result"
    }
   ],
   "source": [
    "df_loans[df_loans.duplicated()]"
   ]
  },
  {
   "cell_type": "code",
   "execution_count": 9,
   "metadata": {},
   "outputs": [
    {
     "data": {
      "text/html": [
       "<div>\n",
       "<style scoped>\n",
       "    .dataframe tbody tr th:only-of-type {\n",
       "        vertical-align: middle;\n",
       "    }\n",
       "\n",
       "    .dataframe tbody tr th {\n",
       "        vertical-align: top;\n",
       "    }\n",
       "\n",
       "    .dataframe thead th {\n",
       "        text-align: right;\n",
       "    }\n",
       "</style>\n",
       "<table border=\"1\" class=\"dataframe\">\n",
       "  <thead>\n",
       "    <tr style=\"text-align: right;\">\n",
       "      <th></th>\n",
       "      <th>loan_id</th>\n",
       "      <th>payment_amount</th>\n",
       "      <th>payment_date</th>\n",
       "      <th>missed</th>\n",
       "    </tr>\n",
       "  </thead>\n",
       "  <tbody>\n",
       "  </tbody>\n",
       "</table>\n",
       "</div>"
      ],
      "text/plain": [
       "Empty DataFrame\n",
       "Columns: [loan_id, payment_amount, payment_date, missed]\n",
       "Index: []"
      ]
     },
     "execution_count": 9,
     "metadata": {},
     "output_type": "execute_result"
    }
   ],
   "source": [
    "df_payments[df_payments.duplicated()]"
   ]
  },
  {
   "cell_type": "code",
   "execution_count": 11,
   "metadata": {},
   "outputs": [
    {
     "data": {
      "text/html": [
       "<div>\n",
       "<style scoped>\n",
       "    .dataframe tbody tr th:only-of-type {\n",
       "        vertical-align: middle;\n",
       "    }\n",
       "\n",
       "    .dataframe tbody tr th {\n",
       "        vertical-align: top;\n",
       "    }\n",
       "\n",
       "    .dataframe thead th {\n",
       "        text-align: right;\n",
       "    }\n",
       "</style>\n",
       "<table border=\"1\" class=\"dataframe\">\n",
       "  <thead>\n",
       "    <tr style=\"text-align: right;\">\n",
       "      <th></th>\n",
       "      <th>loan_id</th>\n",
       "      <th>payment_amount</th>\n",
       "      <th>payment_date</th>\n",
       "      <th>missed</th>\n",
       "      <th>client_id</th>\n",
       "      <th>loan_type</th>\n",
       "      <th>loan_amount</th>\n",
       "      <th>repaid</th>\n",
       "      <th>loan_start</th>\n",
       "      <th>loan_end</th>\n",
       "      <th>rate</th>\n",
       "    </tr>\n",
       "  </thead>\n",
       "  <tbody>\n",
       "    <tr>\n",
       "      <th>0</th>\n",
       "      <td>10243</td>\n",
       "      <td>2369</td>\n",
       "      <td>2002-05-31</td>\n",
       "      <td>1</td>\n",
       "      <td>46109</td>\n",
       "      <td>home</td>\n",
       "      <td>13672</td>\n",
       "      <td>0</td>\n",
       "      <td>2002-04-16</td>\n",
       "      <td>2003-12-20</td>\n",
       "      <td>2.15</td>\n",
       "    </tr>\n",
       "    <tr>\n",
       "      <th>1</th>\n",
       "      <td>10243</td>\n",
       "      <td>2439</td>\n",
       "      <td>2002-06-18</td>\n",
       "      <td>1</td>\n",
       "      <td>46109</td>\n",
       "      <td>home</td>\n",
       "      <td>13672</td>\n",
       "      <td>0</td>\n",
       "      <td>2002-04-16</td>\n",
       "      <td>2003-12-20</td>\n",
       "      <td>2.15</td>\n",
       "    </tr>\n",
       "    <tr>\n",
       "      <th>2</th>\n",
       "      <td>10243</td>\n",
       "      <td>2662</td>\n",
       "      <td>2002-06-29</td>\n",
       "      <td>0</td>\n",
       "      <td>46109</td>\n",
       "      <td>home</td>\n",
       "      <td>13672</td>\n",
       "      <td>0</td>\n",
       "      <td>2002-04-16</td>\n",
       "      <td>2003-12-20</td>\n",
       "      <td>2.15</td>\n",
       "    </tr>\n",
       "    <tr>\n",
       "      <th>3</th>\n",
       "      <td>10243</td>\n",
       "      <td>2268</td>\n",
       "      <td>2002-07-20</td>\n",
       "      <td>0</td>\n",
       "      <td>46109</td>\n",
       "      <td>home</td>\n",
       "      <td>13672</td>\n",
       "      <td>0</td>\n",
       "      <td>2002-04-16</td>\n",
       "      <td>2003-12-20</td>\n",
       "      <td>2.15</td>\n",
       "    </tr>\n",
       "    <tr>\n",
       "      <th>4</th>\n",
       "      <td>10243</td>\n",
       "      <td>2027</td>\n",
       "      <td>2002-07-31</td>\n",
       "      <td>1</td>\n",
       "      <td>46109</td>\n",
       "      <td>home</td>\n",
       "      <td>13672</td>\n",
       "      <td>0</td>\n",
       "      <td>2002-04-16</td>\n",
       "      <td>2003-12-20</td>\n",
       "      <td>2.15</td>\n",
       "    </tr>\n",
       "  </tbody>\n",
       "</table>\n",
       "</div>"
      ],
      "text/plain": [
       "   loan_id  payment_amount payment_date  missed  client_id loan_type  \\\n",
       "0    10243            2369   2002-05-31       1      46109      home   \n",
       "1    10243            2439   2002-06-18       1      46109      home   \n",
       "2    10243            2662   2002-06-29       0      46109      home   \n",
       "3    10243            2268   2002-07-20       0      46109      home   \n",
       "4    10243            2027   2002-07-31       1      46109      home   \n",
       "\n",
       "   loan_amount  repaid  loan_start    loan_end  rate  \n",
       "0        13672       0  2002-04-16  2003-12-20  2.15  \n",
       "1        13672       0  2002-04-16  2003-12-20  2.15  \n",
       "2        13672       0  2002-04-16  2003-12-20  2.15  \n",
       "3        13672       0  2002-04-16  2003-12-20  2.15  \n",
       "4        13672       0  2002-04-16  2003-12-20  2.15  "
      ]
     },
     "execution_count": 11,
     "metadata": {},
     "output_type": "execute_result"
    }
   ],
   "source": [
    "#Connect payments with loans to get client_id\n",
    "df_merged = df_payments.merge(df_loans, on='loan_id')\n",
    "df_merged.head()"
   ]
  },
  {
   "cell_type": "code",
   "execution_count": 36,
   "metadata": {},
   "outputs": [
    {
     "data": {
      "text/html": [
       "<div>\n",
       "<style scoped>\n",
       "    .dataframe tbody tr th:only-of-type {\n",
       "        vertical-align: middle;\n",
       "    }\n",
       "\n",
       "    .dataframe tbody tr th {\n",
       "        vertical-align: top;\n",
       "    }\n",
       "\n",
       "    .dataframe thead th {\n",
       "        text-align: right;\n",
       "    }\n",
       "</style>\n",
       "<table border=\"1\" class=\"dataframe\">\n",
       "  <thead>\n",
       "    <tr style=\"text-align: right;\">\n",
       "      <th></th>\n",
       "      <th>payment_amount</th>\n",
       "    </tr>\n",
       "    <tr>\n",
       "      <th>client_id</th>\n",
       "      <th></th>\n",
       "    </tr>\n",
       "  </thead>\n",
       "  <tbody>\n",
       "    <tr>\n",
       "      <th>49545</th>\n",
       "      <td>1481.188482</td>\n",
       "    </tr>\n",
       "    <tr>\n",
       "      <th>29841</th>\n",
       "      <td>1439.433333</td>\n",
       "    </tr>\n",
       "    <tr>\n",
       "      <th>49624</th>\n",
       "      <td>1419.099010</td>\n",
       "    </tr>\n",
       "    <tr>\n",
       "      <th>32885</th>\n",
       "      <td>1396.495652</td>\n",
       "    </tr>\n",
       "    <tr>\n",
       "      <th>46109</th>\n",
       "      <td>1375.560284</td>\n",
       "    </tr>\n",
       "  </tbody>\n",
       "</table>\n",
       "</div>"
      ],
      "text/plain": [
       "           payment_amount\n",
       "client_id                \n",
       "49545         1481.188482\n",
       "29841         1439.433333\n",
       "49624         1419.099010\n",
       "32885         1396.495652\n",
       "46109         1375.560284"
      ]
     },
     "execution_count": 36,
     "metadata": {},
     "output_type": "execute_result"
    }
   ],
   "source": [
    "payment_amount_mean = df_merged.groupby('client_id').mean()[['payment_amount']]\n",
    "payment_amount_mean.nlargest(5, columns='payment_amount')"
   ]
  },
  {
   "cell_type": "code",
   "execution_count": 53,
   "metadata": {},
   "outputs": [
    {
     "data": {
      "text/plain": [
       "[49545, 29841, 49624, 32885, 46109]"
      ]
     },
     "execution_count": 53,
     "metadata": {},
     "output_type": "execute_result"
    }
   ],
   "source": [
    "largest_5 = payment_amount_mean.sort_values(by='payment_amount', ascending=False)[0:5]\n",
    "largest_5.reset_index()['client_id'].tolist()"
   ]
  },
  {
   "cell_type": "code",
   "execution_count": null,
   "metadata": {},
   "outputs": [],
   "source": [
    "#AD.1 IDs of clients who had highest payment amount mean are: 49545, 29841, 49624, 32885, 46109"
   ]
  },
  {
   "cell_type": "code",
   "execution_count": null,
   "metadata": {},
   "outputs": [],
   "source": []
  },
  {
   "cell_type": "code",
   "execution_count": 61,
   "metadata": {},
   "outputs": [],
   "source": [
    "df_clients['joined'] = pd.to_datetime(df_clients['joined'])"
   ]
  },
  {
   "cell_type": "code",
   "execution_count": 68,
   "metadata": {},
   "outputs": [],
   "source": [
    "prior_clients = df_clients['client_id'][df_clients['joined'] < '2001-01-01'].values"
   ]
  },
  {
   "cell_type": "code",
   "execution_count": 75,
   "metadata": {},
   "outputs": [
    {
     "data": {
      "text/plain": [
       "(443, 443)"
      ]
     },
     "execution_count": 75,
     "metadata": {},
     "output_type": "execute_result"
    }
   ],
   "source": [
    "len(df_loans.loan_id.unique()), len(df_loans)"
   ]
  },
  {
   "cell_type": "code",
   "execution_count": 76,
   "metadata": {},
   "outputs": [
    {
     "data": {
      "text/plain": [
       "49"
      ]
     },
     "execution_count": 76,
     "metadata": {},
     "output_type": "execute_result"
    }
   ],
   "source": [
    "len(df_loans[df_loans.client_id.isin(prior_clients)])"
   ]
  },
  {
   "cell_type": "code",
   "execution_count": null,
   "metadata": {},
   "outputs": [],
   "source": [
    "#AD 2: There was 49 unique loans for clients who joined prior to 2001."
   ]
  },
  {
   "cell_type": "code",
   "execution_count": null,
   "metadata": {},
   "outputs": [],
   "source": []
  },
  {
   "cell_type": "code",
   "execution_count": null,
   "metadata": {},
   "outputs": [],
   "source": []
  },
  {
   "cell_type": "code",
   "execution_count": 81,
   "metadata": {},
   "outputs": [
    {
     "data": {
      "text/plain": [
       "array([46109, 41480, 46180, 25707, 39505, 35214, 26326, 42320, 29841,\n",
       "       44601, 32885, 49068, 39384, 26695, 38537, 46958, 41472])"
      ]
     },
     "execution_count": 81,
     "metadata": {},
     "output_type": "execute_result"
    }
   ],
   "source": [
    "clientwith_credit_score_lessthan700 = df_clients['client_id'][df_clients.credit_score<700].values\n",
    "clientwith_credit_score_lessthan700"
   ]
  },
  {
   "cell_type": "code",
   "execution_count": 96,
   "metadata": {},
   "outputs": [
    {
     "data": {
      "text/plain": [
       "array([25707, 26326, 26695, 26945, 29841, 32726, 32885, 32961, 35089,\n",
       "       35214, 38537, 39384, 39505, 41472, 41480, 42320, 44601, 46109,\n",
       "       46180, 48177, 49068, 49545])"
      ]
     },
     "execution_count": 96,
     "metadata": {},
     "output_type": "execute_result"
    }
   ],
   "source": [
    "clientswith_missed50 = df_merged.groupby('client_id').sum()['missed'].reset_index()\n",
    "clientswith_missed50 = clientswith_missed50['client_id'][clientswith_missed50.missed > 50].values\n",
    "clientswith_missed50"
   ]
  },
  {
   "cell_type": "code",
   "execution_count": 110,
   "metadata": {},
   "outputs": [
    {
     "data": {
      "text/plain": [
       "69.25"
      ]
     },
     "execution_count": 110,
     "metadata": {},
     "output_type": "execute_result"
    }
   ],
   "source": [
    "filtered = df_merged[(df_merged.client_id.isin(clientwith_credit_score_lessthan700))&(df_merged.client_id.isin(clientswith_missed50))]\n",
    "filtered.groupby('client_id').sum()['missed'].mean()"
   ]
  },
  {
   "cell_type": "code",
   "execution_count": null,
   "metadata": {},
   "outputs": [],
   "source": [
    "##3. What is the mean number of payments missed by clients with a credit score of less than 700 and who have missed more than 50 payments?\n",
    "#AD.3 Mean number of payments missed by filtered clients was 69.25."
   ]
  },
  {
   "cell_type": "markdown",
   "metadata": {},
   "source": [
    "# Section 2 Questions"
   ]
  },
  {
   "cell_type": "markdown",
   "metadata": {},
   "source": [
    "Create the following visualizations:\n",
    "    \n",
    "1. Create a histogram of the payment amounts. Briefly describe the distribution.\n",
    "2. Produce a line plot the cumulative sum of the number of clients by year.\n",
    "3. Produce a scatter plot of the percentage of payments missed in december for each year in the dataset."
   ]
  },
  {
   "cell_type": "code",
   "execution_count": 121,
   "metadata": {},
   "outputs": [
    {
     "data": {
      "text/plain": [
       "<matplotlib.lines.Line2D at 0x7f48c8fa4d30>"
      ]
     },
     "execution_count": 121,
     "metadata": {},
     "output_type": "execute_result"
    },
    {
     "data": {
      "image/png": "[encoded data removed]",
      "text/plain": [
       "<Figure size 432x288 with 1 Axes>"
      ]
     },
     "metadata": {
      "needs_background": "light"
     },
     "output_type": "display_data"
    }
   ],
   "source": [
    "df_payments.hist('payment_amount', bins=100)\n",
    "plt.axvline(df_payments.payment_amount.mean(), color='r')\n",
    "plt.axvline(df_payments.payment_amount.median(), color='g')"
   ]
  },
  {
   "cell_type": "code",
   "execution_count": 123,
   "metadata": {},
   "outputs": [
    {
     "data": {
      "text/plain": [
       "(55, 2986)"
      ]
     },
     "execution_count": 123,
     "metadata": {},
     "output_type": "execute_result"
    }
   ],
   "source": [
    "df_payments.payment_amount.min(), df_payments.payment_amount.max()"
   ]
  },
  {
   "cell_type": "code",
   "execution_count": null,
   "metadata": {},
   "outputs": [],
   "source": [
    "#Distribution is asymetrical, has positive skew, range from 55 to 2986 value."
   ]
  },
  {
   "cell_type": "code",
   "execution_count": 143,
   "metadata": {},
   "outputs": [
    {
     "data": {
      "text/plain": [
       "<matplotlib.axes._subplots.AxesSubplot at 0x7f48c86aeac0>"
      ]
     },
     "execution_count": 143,
     "metadata": {},
     "output_type": "execute_result"
    },
    {
     "data": {
      "image/png": "[encoded data removed]",
      "text/plain": [
       "<Figure size 432x288 with 1 Axes>"
      ]
     },
     "metadata": {
      "needs_background": "light"
     },
     "output_type": "display_data"
    }
   ],
   "source": [
    "df_clients['year'] = pd.DatetimeIndex(df_clients['joined']).year\n",
    "clients_per_year = df_clients.groupby('year').size().reset_index()\n",
    "clients_per_year.columns = ['year', 'clients']\n",
    "clients_per_year['sum_of_clients'] = clients_per_year['clients'].cumsum()\n",
    "clients_per_year.plot(x='year', y='sum_of_clients')"
   ]
  },
  {
   "cell_type": "code",
   "execution_count": null,
   "metadata": {},
   "outputs": [],
   "source": []
  },
  {
   "cell_type": "code",
   "execution_count": null,
   "metadata": {},
   "outputs": [],
   "source": [
    "#3. Produce a scatter plot of the percentage of payments missed in december for each year in the dataset."
   ]
  },
  {
   "cell_type": "code",
   "execution_count": 181,
   "metadata": {},
   "outputs": [
    {
     "data": {
      "text/html": [
       "<div>\n",
       "<style scoped>\n",
       "    .dataframe tbody tr th:only-of-type {\n",
       "        vertical-align: middle;\n",
       "    }\n",
       "\n",
       "    .dataframe tbody tr th {\n",
       "        vertical-align: top;\n",
       "    }\n",
       "\n",
       "    .dataframe thead th {\n",
       "        text-align: right;\n",
       "    }\n",
       "</style>\n",
       "<table border=\"1\" class=\"dataframe\">\n",
       "  <thead>\n",
       "    <tr style=\"text-align: right;\">\n",
       "      <th></th>\n",
       "      <th>year</th>\n",
       "      <th>missed</th>\n",
       "      <th>cases</th>\n",
       "      <th>percent_missed</th>\n",
       "    </tr>\n",
       "  </thead>\n",
       "  <tbody>\n",
       "    <tr>\n",
       "      <th>0</th>\n",
       "      <td>2000</td>\n",
       "      <td>1</td>\n",
       "      <td>18</td>\n",
       "      <td>50.000</td>\n",
       "    </tr>\n",
       "    <tr>\n",
       "      <th>1</th>\n",
       "      <td>2001</td>\n",
       "      <td>1</td>\n",
       "      <td>27</td>\n",
       "      <td>48.148</td>\n",
       "    </tr>\n",
       "    <tr>\n",
       "      <th>2</th>\n",
       "      <td>2002</td>\n",
       "      <td>1</td>\n",
       "      <td>30</td>\n",
       "      <td>30.000</td>\n",
       "    </tr>\n",
       "    <tr>\n",
       "      <th>3</th>\n",
       "      <td>2003</td>\n",
       "      <td>1</td>\n",
       "      <td>25</td>\n",
       "      <td>52.000</td>\n",
       "    </tr>\n",
       "    <tr>\n",
       "      <th>4</th>\n",
       "      <td>2004</td>\n",
       "      <td>1</td>\n",
       "      <td>20</td>\n",
       "      <td>55.000</td>\n",
       "    </tr>\n",
       "    <tr>\n",
       "      <th>5</th>\n",
       "      <td>2005</td>\n",
       "      <td>1</td>\n",
       "      <td>30</td>\n",
       "      <td>46.667</td>\n",
       "    </tr>\n",
       "    <tr>\n",
       "      <th>6</th>\n",
       "      <td>2006</td>\n",
       "      <td>1</td>\n",
       "      <td>24</td>\n",
       "      <td>37.500</td>\n",
       "    </tr>\n",
       "    <tr>\n",
       "      <th>7</th>\n",
       "      <td>2007</td>\n",
       "      <td>1</td>\n",
       "      <td>16</td>\n",
       "      <td>56.250</td>\n",
       "    </tr>\n",
       "    <tr>\n",
       "      <th>8</th>\n",
       "      <td>2008</td>\n",
       "      <td>1</td>\n",
       "      <td>9</td>\n",
       "      <td>33.333</td>\n",
       "    </tr>\n",
       "    <tr>\n",
       "      <th>9</th>\n",
       "      <td>2009</td>\n",
       "      <td>1</td>\n",
       "      <td>18</td>\n",
       "      <td>66.667</td>\n",
       "    </tr>\n",
       "    <tr>\n",
       "      <th>10</th>\n",
       "      <td>2010</td>\n",
       "      <td>1</td>\n",
       "      <td>21</td>\n",
       "      <td>47.619</td>\n",
       "    </tr>\n",
       "    <tr>\n",
       "      <th>11</th>\n",
       "      <td>2011</td>\n",
       "      <td>1</td>\n",
       "      <td>28</td>\n",
       "      <td>50.000</td>\n",
       "    </tr>\n",
       "    <tr>\n",
       "      <th>12</th>\n",
       "      <td>2012</td>\n",
       "      <td>1</td>\n",
       "      <td>23</td>\n",
       "      <td>60.870</td>\n",
       "    </tr>\n",
       "    <tr>\n",
       "      <th>13</th>\n",
       "      <td>2013</td>\n",
       "      <td>1</td>\n",
       "      <td>20</td>\n",
       "      <td>50.000</td>\n",
       "    </tr>\n",
       "    <tr>\n",
       "      <th>14</th>\n",
       "      <td>2014</td>\n",
       "      <td>1</td>\n",
       "      <td>23</td>\n",
       "      <td>39.130</td>\n",
       "    </tr>\n",
       "  </tbody>\n",
       "</table>\n",
       "</div>"
      ],
      "text/plain": [
       "    year  missed  cases  percent_missed\n",
       "0   2000       1     18          50.000\n",
       "1   2001       1     27          48.148\n",
       "2   2002       1     30          30.000\n",
       "3   2003       1     25          52.000\n",
       "4   2004       1     20          55.000\n",
       "5   2005       1     30          46.667\n",
       "6   2006       1     24          37.500\n",
       "7   2007       1     16          56.250\n",
       "8   2008       1      9          33.333\n",
       "9   2009       1     18          66.667\n",
       "10  2010       1     21          47.619\n",
       "11  2011       1     28          50.000\n",
       "12  2012       1     23          60.870\n",
       "13  2013       1     20          50.000\n",
       "14  2014       1     23          39.130"
      ]
     },
     "execution_count": 181,
     "metadata": {},
     "output_type": "execute_result"
    }
   ],
   "source": [
    "df_payments['december'] = pd.DatetimeIndex(df_payments['payment_date']).month\n",
    "df_payments['december'] = df_payments['december'].map(lambda x: True if x==12 else False)\n",
    "df_payments['year'] = pd.DatetimeIndex(df_payments['payment_date']).year\n",
    "payments_december = df_payments[df_payments.december == True]\n",
    "payments_december = payments_december.groupby(['year', 'missed']).size().reset_index()\n",
    "payments_december.columns = ['year', 'missed', 'cases']\n",
    "sum_payments = payments_december.groupby('year').sum().reset_index()\n",
    "\n",
    "missed = payments_december[payments_december.missed==1]['cases'].values\n",
    "sum_payments['percent_missed'] = round(missed/sum_payments['cases'] * 100,3)\n",
    "sum_payments"
   ]
  },
  {
   "cell_type": "code",
   "execution_count": 191,
   "metadata": {},
   "outputs": [
    {
     "data": {
      "text/plain": [
       "<matplotlib.axes._subplots.AxesSubplot at 0x7f48c621d310>"
      ]
     },
     "execution_count": 191,
     "metadata": {},
     "output_type": "execute_result"
    },
    {
     "data": {
      "image/png": "[encoded data removed]",
      "text/plain": [
       "<Figure size 1080x432 with 1 Axes>"
      ]
     },
     "metadata": {
      "needs_background": "light"
     },
     "output_type": "display_data"
    }
   ],
   "source": [
    "sum_payments.plot.scatter(x='year', y='percent_missed', figsize=(15,6))"
   ]
  },
  {
   "cell_type": "code",
   "execution_count": null,
   "metadata": {},
   "outputs": [],
   "source": []
  },
  {
   "cell_type": "markdown",
   "metadata": {},
   "source": [
    "# Section 3 - Modelling"
   ]
  },
  {
   "cell_type": "markdown",
   "metadata": {},
   "source": [
    "Create a model that will predict whether a person does or does not have diabetes. Use the diabetes.csv dataset. The target column in the dataset is \"Outcome\". Assume no features leak information about the target.\n",
    "\n",
    "Your solution should include the below. You may use whichever python libraries you wish to complete the task:\n",
    "1. Feature engineering\n",
    "2. Model fitting and performance evaluation\n",
    "3. A function that takes as arguments: a model, train data, test data, and returns the model's predictions on the test data\n",
    "4. A function that takes a set of predictions and true values and that validates the predictions using appropriate metrics\n",
    "5. Anything else you feel is necessary for modelling or improving the performance of your model\n",
    "\n",
    "\n",
    "__This exercise is intended for you to show your proficiency in machine learning, understanding of the various techniques that can be employed to improve the performance of a model, and your ability to implement those techniques. Please, therefore, show your working at all times. You will be judged more for the above than for the performance of the final model your produce.__"
   ]
  },
  {
   "cell_type": "code",
   "execution_count": 430,
   "metadata": {},
   "outputs": [
    {
     "data": {
      "text/html": [
       "<div>\n",
       "<style scoped>\n",
       "    .dataframe tbody tr th:only-of-type {\n",
       "        vertical-align: middle;\n",
       "    }\n",
       "\n",
       "    .dataframe tbody tr th {\n",
       "        vertical-align: top;\n",
       "    }\n",
       "\n",
       "    .dataframe thead th {\n",
       "        text-align: right;\n",
       "    }\n",
       "</style>\n",
       "<table border=\"1\" class=\"dataframe\">\n",
       "  <thead>\n",
       "    <tr style=\"text-align: right;\">\n",
       "      <th></th>\n",
       "      <th>Pregnancies</th>\n",
       "      <th>Glucose</th>\n",
       "      <th>BloodPressure</th>\n",
       "      <th>SkinThickness</th>\n",
       "      <th>Insulin</th>\n",
       "      <th>BMI</th>\n",
       "      <th>DiabetesPedigreeFunction</th>\n",
       "      <th>Age</th>\n",
       "      <th>Outcome</th>\n",
       "    </tr>\n",
       "  </thead>\n",
       "  <tbody>\n",
       "    <tr>\n",
       "      <th>0</th>\n",
       "      <td>NaN</td>\n",
       "      <td>148.0</td>\n",
       "      <td>72.0</td>\n",
       "      <td>35.0</td>\n",
       "      <td>0</td>\n",
       "      <td>33.6</td>\n",
       "      <td>0.627</td>\n",
       "      <td>50.0</td>\n",
       "      <td>1</td>\n",
       "    </tr>\n",
       "    <tr>\n",
       "      <th>1</th>\n",
       "      <td>1.0</td>\n",
       "      <td>85.0</td>\n",
       "      <td>66.0</td>\n",
       "      <td>29.0</td>\n",
       "      <td>0</td>\n",
       "      <td>26.6</td>\n",
       "      <td>0.351</td>\n",
       "      <td>31.0</td>\n",
       "      <td>0</td>\n",
       "    </tr>\n",
       "    <tr>\n",
       "      <th>2</th>\n",
       "      <td>8.0</td>\n",
       "      <td>183.0</td>\n",
       "      <td>64.0</td>\n",
       "      <td>0.0</td>\n",
       "      <td>0</td>\n",
       "      <td>23.3</td>\n",
       "      <td>0.672</td>\n",
       "      <td>32.0</td>\n",
       "      <td>1</td>\n",
       "    </tr>\n",
       "    <tr>\n",
       "      <th>3</th>\n",
       "      <td>1.0</td>\n",
       "      <td>89.0</td>\n",
       "      <td>66.0</td>\n",
       "      <td>23.0</td>\n",
       "      <td>94</td>\n",
       "      <td>28.1</td>\n",
       "      <td>0.167</td>\n",
       "      <td>21.0</td>\n",
       "      <td>0</td>\n",
       "    </tr>\n",
       "    <tr>\n",
       "      <th>4</th>\n",
       "      <td>0.0</td>\n",
       "      <td>NaN</td>\n",
       "      <td>40.0</td>\n",
       "      <td>35.0</td>\n",
       "      <td>168</td>\n",
       "      <td>43.1</td>\n",
       "      <td>2.288</td>\n",
       "      <td>NaN</td>\n",
       "      <td>1</td>\n",
       "    </tr>\n",
       "  </tbody>\n",
       "</table>\n",
       "</div>"
      ],
      "text/plain": [
       "   Pregnancies  Glucose  BloodPressure  SkinThickness Insulin   BMI  \\\n",
       "0          NaN    148.0           72.0           35.0       0  33.6   \n",
       "1          1.0     85.0           66.0           29.0       0  26.6   \n",
       "2          8.0    183.0           64.0            0.0       0  23.3   \n",
       "3          1.0     89.0           66.0           23.0      94  28.1   \n",
       "4          0.0      NaN           40.0           35.0     168  43.1   \n",
       "\n",
       "   DiabetesPedigreeFunction   Age Outcome  \n",
       "0                     0.627  50.0       1  \n",
       "1                     0.351  31.0       0  \n",
       "2                     0.672  32.0       1  \n",
       "3                     0.167  21.0       0  \n",
       "4                     2.288   NaN       1  "
      ]
     },
     "execution_count": 430,
     "metadata": {},
     "output_type": "execute_result"
    }
   ],
   "source": [
    "df = pd.read_csv(\"test_diabetes.csv\", sep=';')\n",
    "df.head()"
   ]
  },
  {
   "cell_type": "code",
   "execution_count": 420,
   "metadata": {},
   "outputs": [
    {
     "data": {
      "text/html": [
       "<div>\n",
       "<style scoped>\n",
       "    .dataframe tbody tr th:only-of-type {\n",
       "        vertical-align: middle;\n",
       "    }\n",
       "\n",
       "    .dataframe tbody tr th {\n",
       "        vertical-align: top;\n",
       "    }\n",
       "\n",
       "    .dataframe thead th {\n",
       "        text-align: right;\n",
       "    }\n",
       "</style>\n",
       "<table border=\"1\" class=\"dataframe\">\n",
       "  <thead>\n",
       "    <tr style=\"text-align: right;\">\n",
       "      <th></th>\n",
       "      <th>Pregnancies</th>\n",
       "      <th>Glucose</th>\n",
       "      <th>BloodPressure</th>\n",
       "      <th>SkinThickness</th>\n",
       "      <th>Insulin</th>\n",
       "      <th>BMI</th>\n",
       "      <th>DiabetesPedigreeFunction</th>\n",
       "      <th>Age</th>\n",
       "      <th>Outcome</th>\n",
       "    </tr>\n",
       "  </thead>\n",
       "  <tbody>\n",
       "  </tbody>\n",
       "</table>\n",
       "</div>"
      ],
      "text/plain": [
       "Empty DataFrame\n",
       "Columns: [Pregnancies, Glucose, BloodPressure, SkinThickness, Insulin, BMI, DiabetesPedigreeFunction, Age, Outcome]\n",
       "Index: []"
      ]
     },
     "execution_count": 420,
     "metadata": {},
     "output_type": "execute_result"
    }
   ],
   "source": [
    "df[df.duplicated()] #No duplicates"
   ]
  },
  {
   "cell_type": "code",
   "execution_count": 298,
   "metadata": {},
   "outputs": [
    {
     "data": {
      "text/plain": [
       "(768, 9)"
      ]
     },
     "execution_count": 298,
     "metadata": {},
     "output_type": "execute_result"
    }
   ],
   "source": [
    "df.shape"
   ]
  },
  {
   "cell_type": "code",
   "execution_count": 216,
   "metadata": {},
   "outputs": [
    {
     "data": {
      "text/plain": [
       "265"
      ]
     },
     "execution_count": 216,
     "metadata": {},
     "output_type": "execute_result"
    }
   ],
   "source": [
    "df.isnull().T.any().sum()"
   ]
  },
  {
   "cell_type": "code",
   "execution_count": 299,
   "metadata": {},
   "outputs": [
    {
     "name": "stdout",
     "output_type": "stream",
     "text": [
      "<class 'pandas.core.frame.DataFrame'>\n",
      "RangeIndex: 768 entries, 0 to 767\n",
      "Data columns (total 9 columns):\n",
      " #   Column                    Non-Null Count  Dtype  \n",
      "---  ------                    --------------  -----  \n",
      " 0   Pregnancies               731 non-null    float64\n",
      " 1   Glucose                   730 non-null    float64\n",
      " 2   BloodPressure             734 non-null    float64\n",
      " 3   SkinThickness             734 non-null    float64\n",
      " 4   Insulin                   717 non-null    object \n",
      " 5   BMI                       733 non-null    float64\n",
      " 6   DiabetesPedigreeFunction  728 non-null    float64\n",
      " 7   Age                       717 non-null    float64\n",
      " 8   Outcome                   768 non-null    object \n",
      "dtypes: float64(7), object(2)\n",
      "memory usage: 54.1+ KB\n"
     ]
    }
   ],
   "source": [
    "df.info()"
   ]
  },
  {
   "cell_type": "code",
   "execution_count": 421,
   "metadata": {},
   "outputs": [
    {
     "data": {
      "text/plain": [
       "array([[<matplotlib.axes._subplots.AxesSubplot object at 0x7f48c02e3cd0>,\n",
       "        <matplotlib.axes._subplots.AxesSubplot object at 0x7f48c0263d60>,\n",
       "        <matplotlib.axes._subplots.AxesSubplot object at 0x7f48c0215220>],\n",
       "       [<matplotlib.axes._subplots.AxesSubplot object at 0x7f48c0241670>,\n",
       "        <matplotlib.axes._subplots.AxesSubplot object at 0x7f48c01ecac0>,\n",
       "        <matplotlib.axes._subplots.AxesSubplot object at 0x7f48c019bd30>],\n",
       "       [<matplotlib.axes._subplots.AxesSubplot object at 0x7f48c019be20>,\n",
       "        <matplotlib.axes._subplots.AxesSubplot object at 0x7f48c0180700>,\n",
       "        <matplotlib.axes._subplots.AxesSubplot object at 0x7f48c0120c10>]],\n",
       "      dtype=object)"
      ]
     },
     "execution_count": 421,
     "metadata": {},
     "output_type": "execute_result"
    },
    {
     "data": {
      "image/png": "[encoded data removed]",
      "text/plain": [
       "<Figure size 1080x432 with 9 Axes>"
      ]
     },
     "metadata": {},
     "output_type": "display_data"
    }
   ],
   "source": [
    "plt.rcParams['font.family'] = 'serif'\n",
    "plt.rcParams['font.serif'] = ['Times New Roman'] + plt.rcParams['font.serif']\n",
    "plt.rcParams['axes.facecolor'] = 'white'\n",
    "plt.rcParams['figure.facecolor'] = 'white'\n",
    "plt.rcParams['text.color'] = 'black'\n",
    "plt.rcParams['axes.labelcolor'] =  'black'\n",
    "plt.rcParams['xtick.color'] =  'black'\n",
    "plt.rcParams['ytick.color'] =  'black'\n",
    "df.hist(figsize=(15,6))"
   ]
  },
  {
   "cell_type": "code",
   "execution_count": 253,
   "metadata": {},
   "outputs": [
    {
     "data": {
      "text/plain": [
       "<matplotlib.axes._subplots.AxesSubplot at 0x7f48c4c6a220>"
      ]
     },
     "execution_count": 253,
     "metadata": {},
     "output_type": "execute_result"
    },
    {
     "data": {
      "image/png": "[encoded data removed]",
      "text/plain": [
       "<Figure size 432x288 with 1 Axes>"
      ]
     },
     "metadata": {
      "needs_background": "light"
     },
     "output_type": "display_data"
    }
   ],
   "source": [
    "df.Age.hist(bins=50)"
   ]
  },
  {
   "cell_type": "code",
   "execution_count": 301,
   "metadata": {},
   "outputs": [
    {
     "data": {
      "text/plain": [
       "450    170.0\n",
       "451    200.0\n",
       "600    190.0\n",
       "620    150.0\n",
       "Name: Age, dtype: float64"
      ]
     },
     "execution_count": 301,
     "metadata": {},
     "output_type": "execute_result"
    }
   ],
   "source": [
    "df.Age[df.Age>120]"
   ]
  },
  {
   "cell_type": "code",
   "execution_count": 422,
   "metadata": {},
   "outputs": [
    {
     "name": "stdout",
     "output_type": "stream",
     "text": [
      "Pregnancies\n",
      "[nan, 0.0, 1.0, 2.0, 3.0, 4.0, 5.0, 6.0, 7.0, 8.0, 9.0, 10.0, 11.0, 12.0, 13.0, 14.0, 15.0, 17.0]\n",
      "min-max 0.0 17.0\n",
      "Glucose\n",
      "[0.0, 44.0, 56.0, 57.0, 61.0, 62.0, 65.0, 67.0, 68.0, 71.0, 72.0, 73.0, 74.0, 75.0, 76.0, 77.0, 78.0, 79.0, 80.0, 81.0, 82.0, 83.0, 84.0, 85.0, 86.0, 87.0, 88.0, 89.0, 90.0, 91.0, 92.0, 93.0, 94.0, 95.0, 96.0, 97.0, 98.0, 99.0, 100.0, 101.0, 102.0, 103.0, 104.0, 105.0, 106.0, 107.0, 108.0, 109.0, 110.0, 111.0, 112.0, 113.0, 114.0, 115.0, 116.0, 117.0, 118.0, 119.0, 120.0, 121.0, 122.0, 123.0, 124.0, 125.0, 126.0, 127.0, 128.0, 129.0, 130.0, 131.0, 132.0, 133.0, 134.0, 135.0, 136.0, 137.0, 138.0, 140.0, 141.0, 142.0, 144.0, 146.0, 148.0, 149.0, 150.0, 151.0, 152.0, 153.0, 154.0, 155.0, 156.0, 157.0, 159.0, 160.0, 161.0, 162.0, 163.0, 164.0, 165.0, 167.0, 169.0, 170.0, 171.0, 172.0, 173.0, 174.0, 175.0, 176.0, 177.0, 178.0, 179.0, 180.0, 181.0, 182.0, 183.0, nan, 139.0, 143.0, 145.0, 147.0, 158.0, 166.0, 168.0, 184.0, 186.0, 187.0, 188.0, 189.0, 190.0, 191.0, 193.0, 194.0, 195.0, 196.0, 197.0, 198.0]\n",
      "min-max 0.0 198.0\n",
      "BloodPressure\n",
      "[0.0, 30.0, 38.0, 40.0, 44.0, 46.0, 48.0, 50.0, 52.0, 54.0, 55.0, 56.0, 60.0, 61.0, 64.0, 66.0, 70.0, 72.0, 74.0, nan, 58.0, 62.0, 65.0, 68.0, 75.0, 76.0, 78.0, 80.0, 82.0, 84.0, 85.0, 86.0, 88.0, 90.0, 92.0, 94.0, 95.0, 96.0, 98.0, 100.0, 102.0, 104.0, 106.0, 108.0, 110.0, 114.0, 122.0]\n",
      "min-max 0.0 122.0\n",
      "SkinThickness\n",
      "[0.0, 7.0, 8.0, 10.0, 11.0, 12.0, 13.0, 14.0, 15.0, 16.0, 17.0, 18.0, 19.0, 20.0, 23.0, 24.0, 25.0, 26.0, 27.0, 29.0, 35.0, nan, 21.0, 22.0, 28.0, 30.0, 31.0, 32.0, 33.0, 34.0, 36.0, 37.0, 38.0, 39.0, 40.0, 41.0, 42.0, 43.0, 44.0, 45.0, 46.0, 47.0, 48.0, 49.0, 50.0, 51.0, 52.0, 54.0, 56.0, 60.0, 63.0, 99.0]\n",
      "min-max 0.0 99.0\n",
      "Insulin\n",
      "['0' '94' '168' 'Zero' '88' '543' '846' '175' '230' nan '96' '235' '146'\n",
      " '115' '110' '245' '54' '192' '207' '70' '240' '82' '36' '23' '300' '342'\n",
      " '142' '128' '38' '90' '140' '270' '71' '125' '176' '48' '64' '228' '76'\n",
      " '220' '40' '152' '18' '135' '495' '37' '51' '100' '99' '145' '225' '49'\n",
      " '50' '92' '325' '63' '119' '204' '155' '485' '53' '114' '105' '285' '156'\n",
      " '78' '55' '130' '58' '160' '210' '318' '44' '190' '280' '271' '129' '120'\n",
      " '478' '56' '32' '370' '45' '194' '680' '402' '258' '375' '150' '67' '57'\n",
      " '116' '278' '122' '545' '75' '74' '182' '360' '215' '184' '42' '132'\n",
      " '148' '180' '205' '85' '231' '29' '68' '52' '255' '171' '73' '108' '83'\n",
      " '43' '167' '249' '293' '66' '465' '89' '158' '84' '72' '59' '81' '196'\n",
      " '415' '87' '275' '165' '579' '310' '61' '474' '170' '277' '60' '14' '95'\n",
      " '237' '191' '328' '250' '480' '265' '193' '79' '86' '326' '188' '106'\n",
      " '65' '166' '274' '77' '126' '330' '600' '185' '25' '41' '272' '321' '144'\n",
      " '183' '91' '46' '440' '159' '200' '335' '387' '22' '291' '392' '178'\n",
      " '127' '510' '16' '112']\n",
      "Column not numeric\n",
      "BMI\n",
      "[0.0, 18.2, 19.4, 19.9, 22.2, 22.7, 23.0, 23.2, 23.3, 24.2, 24.4, 24.8, 25.0, 25.4, 25.6, 25.8, 26.6, 27.1, 27.4, 27.6, 28.0, 28.1, 29.0, 29.6, 29.7, 30.0, 30.1, 30.5, 31.0, 31.1, 31.6, 32.9, 33.2, 33.6, 33.7, 34.0, 34.1, 34.6, 34.7, 35.3, 35.4, 36.0, 36.6, 37.1, 37.6, 37.7, 38.0, 38.2, 39.1, 39.3, 39.4, 39.8, 40.2, 40.5, 41.5, 42.0, 43.1, 43.3, 45.4, 45.8, nan, 18.4, 19.1, 19.3, 19.5, 19.6, 20.0, 20.1, 20.4, 20.8, 21.0, 21.1, 21.2, 21.7, 21.8, 21.9, 22.1, 22.3, 22.4, 22.5, 22.6, 22.9, 23.1, 23.4, 23.5, 23.6, 23.7, 23.8, 23.9, 24.0, 24.3, 24.5, 24.6, 24.7, 24.9, 25.1, 25.2, 25.3, 25.5, 25.9, 26.0, 26.1, 26.2, 26.3, 26.4, 26.5, 26.7, 26.8, 26.9, 27.2, 27.3, 27.5, 27.7, 27.8, 27.9, 28.2, 28.3, 28.4, 28.5, 28.6, 28.7, 28.8, 28.9, 29.2, 29.3, 29.5, 29.8, 29.9, 30.3, 30.4, 30.7, 30.8, 30.9, 31.2, 31.9, 32.0, 32.1, 32.2, 32.3, 32.4, 32.5, 32.6, 32.7, 32.8, 33.1, 33.3, 33.8, 33.9, 34.2, 34.3, 34.4, 34.5, 34.8, 34.9, 35.0, 35.1, 35.2, 35.5, 35.6, 35.7, 35.8, 35.9, 36.1, 36.2, 36.3, 36.4, 36.5, 36.8, 36.9, 37.0, 37.2, 37.3, 37.4, 37.5, 37.8, 37.9, 38.1, 38.3, 38.4, 38.5, 38.6, 38.7, 38.8, 38.9, 39.0, 39.2, 39.5, 39.6, 39.7, 39.9, 40.0, 40.1, 40.6, 40.7, 40.8, 40.9, 41.0, 41.2, 41.3, 41.8, 42.1, 42.2, 42.3, 42.4, 42.6, 42.7, 42.8, 42.9, 43.2, 43.4, 43.5, 43.6, 44.0, 44.1, 44.2, 44.5, 44.6, 45.0, 45.2, 45.3, 45.5, 45.6, 45.7, 46.1, 46.2, 46.3, 46.5, 46.7, 46.8, 47.9, 48.3, 48.8, 49.3, 49.6, 49.7, 52.3, 52.9, 53.2, 55.0, 57.3, 59.4, 67.1]\n",
      "min-max 0.0 67.1\n",
      "DiabetesPedigreeFunction\n",
      "[0.078, 0.085, 0.134, 0.158, 0.16699999999999998, 0.183, 0.188, 0.191, 0.201, 0.203, 0.205, 0.232, 0.235, 0.245, 0.248, 0.254, 0.257, 0.258, 0.263, 0.267, 0.27, 0.271, 0.294, 0.304, 0.305, 0.337, 0.342, 0.344, 0.35100000000000003, 0.388, 0.42, 0.451, 0.467, 0.484, 0.487, 0.491, 0.503, 0.512, 0.526, 0.529, 0.537, 0.546, 0.551, 0.564, 0.586, 0.5870000000000001, 0.627, 0.665, 0.672, 0.696, 0.6990000000000001, 0.7040000000000001, 0.718, 0.721, 0.851, 0.855, 0.962, 0.966, 1.39, 1.4409999999999998, 1.781, 1.893, 2.2880000000000003, nan, 0.084, 0.08800000000000001, 0.092, 0.096, 0.1, 0.101, 0.102, 0.107, 0.108, 0.115, 0.118, 0.121, 0.122, 0.123, 0.126, 0.127, 0.128, 0.129, 0.133, 0.135, 0.136, 0.13699999999999998, 0.138, 0.14, 0.141, 0.142, 0.14300000000000002, 0.14400000000000002, 0.145, 0.147, 0.14800000000000002, 0.149, 0.15, 0.151, 0.153, 0.154, 0.155, 0.156, 0.157, 0.159, 0.16, 0.161, 0.162, 0.163, 0.16399999999999998, 0.165, 0.166, 0.17, 0.171, 0.175, 0.17600000000000002, 0.177, 0.17800000000000002, 0.179, 0.18, 0.181, 0.182, 0.18600000000000005, 0.187, 0.189, 0.19, 0.192, 0.196, 0.197, 0.198, 0.199, 0.2, 0.204, 0.206, 0.207, 0.209, 0.21, 0.212, 0.215, 0.218, 0.219, 0.22, 0.221, 0.222, 0.223, 0.225, 0.226, 0.227, 0.229, 0.23, 0.231, 0.233, 0.234, 0.236, 0.237, 0.238, 0.24, 0.241, 0.243, 0.244, 0.246, 0.247, 0.249, 0.251, 0.252, 0.253, 0.255, 0.256, 0.259, 0.26, 0.261, 0.262, 0.264, 0.265, 0.268, 0.269, 0.272, 0.278, 0.279, 0.28, 0.282, 0.284, 0.285, 0.28600000000000003, 0.287, 0.289, 0.29, 0.292, 0.293, 0.295, 0.29600000000000004, 0.297, 0.299, 0.3, 0.302, 0.303, 0.306, 0.307, 0.313, 0.314, 0.315, 0.317, 0.318, 0.319, 0.32299999999999995, 0.324, 0.325, 0.326, 0.328, 0.329, 0.33, 0.331, 0.332, 0.334, 0.335, 0.336, 0.338, 0.34, 0.341, 0.343, 0.345, 0.34600000000000003, 0.34700000000000003, 0.349, 0.35200000000000004, 0.355, 0.35600000000000004, 0.358, 0.361, 0.362, 0.364, 0.365, 0.366, 0.368, 0.37, 0.371, 0.374, 0.375, 0.376, 0.378, 0.38, 0.381, 0.382, 0.383, 0.385, 0.389, 0.391, 0.393, 0.394, 0.395, 0.396, 0.399, 0.4, 0.401, 0.402, 0.403, 0.404, 0.407, 0.408, 0.411, 0.412, 0.415, 0.416, 0.417, 0.419, 0.421, 0.422, 0.423, 0.4270000000000001, 0.43, 0.4320000000000001, 0.433, 0.434, 0.439, 0.441, 0.443, 0.444, 0.446, 0.447, 0.452, 0.453, 0.454, 0.455, 0.457, 0.46, 0.463, 0.464, 0.465, 0.466, 0.471, 0.472, 0.479, 0.482, 0.483, 0.485, 0.488, 0.493, 0.495, 0.496, 0.4970000000000001, 0.498, 0.499, 0.501, 0.502, 0.507, 0.509, 0.51, 0.514, 0.516, 0.52, 0.525, 0.527, 0.528, 0.532, 0.534, 0.536, 0.539, 0.542, 0.5429999999999999, 0.545, 0.547, 0.5489999999999999, 0.5539999999999999, 0.557, 0.5589999999999999, 0.56, 0.561, 0.565, 0.569, 0.5710000000000001, 0.5720000000000001, 0.575, 0.578, 0.5820000000000001, 0.583, 0.588, 0.591, 0.593, 0.595, 0.597, 0.598, 0.6, 0.601, 0.605, 0.607, 0.61, 0.612, 0.613, 0.614, 0.615, 0.619, 0.624, 0.626, 0.63, 0.631, 0.637, 0.64, 0.645, 0.6459999999999999, 0.647, 0.649, 0.652, 0.654, 0.655, 0.6579999999999999, 0.66, 0.6609999999999999, 0.6659999999999999, 0.674, 0.6779999999999999, 0.68, 0.682, 0.6859999999999999, 0.687, 0.6920000000000001, 0.693, 0.698, 0.7020000000000001, 0.703, 0.705, 0.7090000000000001, 0.711, 0.7170000000000001, 0.7190000000000001, 0.722, 0.725, 0.727, 0.73, 0.731, 0.732, 0.733, 0.7340000000000001, 0.735, 0.741, 0.742, 0.743, 0.7440000000000001, 0.745, 0.748, 0.757, 0.759, 0.7609999999999999, 0.7659999999999999, 0.767, 0.7709999999999999, 0.773, 0.785, 0.787, 0.8009999999999999, 0.8029999999999999, 0.804, 0.805, 0.8079999999999999, 0.813, 0.816, 0.8170000000000001, 0.821, 0.825, 0.826, 0.828, 0.831, 0.8320000000000001, 0.833, 0.8390000000000001, 0.84, 0.845, 0.856, 0.867, 0.871, 0.8740000000000001, 0.875, 0.878, 0.88, 0.8809999999999999, 0.8859999999999999, 0.892, 0.893, 0.904, 0.905, 0.917, 0.925, 0.926, 0.93, 0.932, 0.933, 0.944, 0.947, 0.949, 0.955, 0.956, 0.968, 0.97, 0.997, 1.001, 1.021, 1.022, 1.034, 1.0759999999999998, 1.095, 1.096, 1.101, 1.114, 1.127, 1.136, 1.138, 1.144, 1.154, 1.159, 1.162, 1.182, 1.189, 1.1909999999999998, 1.213, 1.222, 1.224, 1.251, 1.2819999999999998, 1.2919999999999998, 1.318, 1.321, 1.3530000000000002, 1.391, 1.394, 1.4, 1.461, 1.476, 1.6, 1.6980000000000002, 1.699, 1.731, 2.137, 2.329, 2.42]\n",
      "min-max 0.078 2.42\n",
      "Age\n",
      "[-1.0, 21.0, 22.0, 23.0, 24.0, 25.0, 26.0, 27.0, 28.0, 29.0, 30.0, 31.0, 32.0, 33.0, 35.0, 36.0, 37.0, 38.0, 39.0, 40.0, 42.0, 43.0, 50.0, nan, 34.0, 41.0, 44.0, 45.0, 46.0, 47.0, 48.0, 49.0, 51.0, 52.0, 53.0, 54.0, 55.0, 56.0, 57.0, 58.0, 59.0, 60.0, 61.0, 62.0, 63.0, 64.0, 65.0, 66.0, 67.0, 68.0, 69.0, 70.0, 72.0, 81.0, 150.0, 170.0, 190.0, 200.0]\n",
      "min-max -1.0 200.0\n",
      "Outcome\n",
      "['0', '1', 'N', 'Y']\n",
      "min-max 0 Y\n"
     ]
    }
   ],
   "source": [
    "for column in df.columns:\n",
    "    print(column)\n",
    "    try: \n",
    "        print(sorted(df[column].unique()))\n",
    "    except:\n",
    "        print(df[column].unique())\n",
    "    try:\n",
    "        print('min-max', df[column].min(), df[column].max())\n",
    "    except:\n",
    "        print(\"Column not numeric\")"
   ]
  },
  {
   "cell_type": "code",
   "execution_count": 432,
   "metadata": {},
   "outputs": [],
   "source": [
    "df.Outcome = df.Outcome.map({'Y':1, 'N':0, '0':0, '1':1})\n",
    "\n",
    "df.Insulin = np.where(df.Insulin=='Zero', 0, df.Insulin)\n",
    "df.Insulin = df['Insulin'].astype('float64')\n",
    "\n",
    "df.Insulin = np.where(df.Insulin==0, np.nan, df.Insulin)\n",
    "df.Glucose = np.where(df.Glucose==0, np.nan, df.Glucose)\n",
    "df.BloodPressure = np.where(df.BloodPressure==0, np.nan, df.BloodPressure)\n",
    "df.BMI = np.where(df.BMI==0, np.nan, df.BMI)\n",
    "\n",
    "df.Age = np.where(df.Age>120, np.nan, df.Age)\n",
    "df.Age = np.where(df.Age<0, np.nan, df.Age)"
   ]
  },
  {
   "cell_type": "code",
   "execution_count": 434,
   "metadata": {},
   "outputs": [
    {
     "data": {
      "text/plain": [
       "0    500\n",
       "1    268\n",
       "Name: Outcome, dtype: int64"
      ]
     },
     "execution_count": 434,
     "metadata": {},
     "output_type": "execute_result"
    }
   ],
   "source": [
    "df.Outcome.value_counts()\n",
    "#Dataset is imbalanced"
   ]
  },
  {
   "cell_type": "code",
   "execution_count": 435,
   "metadata": {},
   "outputs": [
    {
     "data": {
      "text/plain": [
       "1    500\n",
       "0    500\n",
       "Name: Outcome, dtype: int64"
      ]
     },
     "execution_count": 435,
     "metadata": {},
     "output_type": "execute_result"
    }
   ],
   "source": [
    "from sklearn.utils import resample\n",
    "df_majority = df[df.Outcome==0]\n",
    "df_minority = df[df.Outcome==1]\n",
    "df_minority_upsampled = resample(df_minority, replace=True, n_samples=500, random_state=123)\n",
    " \n",
    "df = pd.concat([df_majority, df_minority_upsampled])\n",
    "df.Outcome.value_counts()"
   ]
  },
  {
   "cell_type": "code",
   "execution_count": 433,
   "metadata": {},
   "outputs": [
    {
     "data": {
      "text/plain": [
       "(257, 768)"
      ]
     },
     "execution_count": 433,
     "metadata": {},
     "output_type": "execute_result"
    }
   ],
   "source": [
    "len(df.dropna(how='any')), len(df)\n",
    "#because we lost almost 1/4 of our data deleting any unavailable data - we have to impute them instead"
   ]
  },
  {
   "cell_type": "code",
   "execution_count": 436,
   "metadata": {},
   "outputs": [
    {
     "data": {
      "text/plain": [
       "Index(['Pregnancies', 'Glucose', 'BloodPressure', 'SkinThickness', 'Insulin',\n",
       "       'BMI', 'DiabetesPedigreeFunction', 'Age', 'Outcome'],\n",
       "      dtype='object')"
      ]
     },
     "execution_count": 436,
     "metadata": {},
     "output_type": "execute_result"
    }
   ],
   "source": [
    "impute_df = df.copy()\n",
    "impute_df.columns"
   ]
  },
  {
   "cell_type": "code",
   "execution_count": 437,
   "metadata": {},
   "outputs": [],
   "source": [
    "for column in impute_df.columns:\n",
    "    impute_df[column].fillna(impute_df[column].mean(), inplace = True)"
   ]
  },
  {
   "cell_type": "code",
   "execution_count": 516,
   "metadata": {},
   "outputs": [],
   "source": [
    "from sklearn.model_selection import train_test_split\n",
    "from sklearn.naive_bayes import GaussianNB\n",
    "from sklearn.tree import DecisionTreeClassifier\n",
    "from sklearn.ensemble import RandomForestClassifier\n",
    "from sklearn.linear_model import LogisticRegression\n",
    "\n",
    "from sklearn.metrics import confusion_matrix\n",
    "from sklearn.metrics import accuracy_score\n",
    "from sklearn.model_selection import cross_val_score\n",
    "from sklearn import metrics"
   ]
  },
  {
   "cell_type": "code",
   "execution_count": 521,
   "metadata": {},
   "outputs": [],
   "source": [
    "#3. A function that takes as arguments: a model, train data, test data, and returns the model's predictions on the test data\n",
    "#4. A function that takes a set of predictions and true values and that validates the predictions using appropriate metrics\n",
    "def predict(model, x_train, x_test, y_train, y_test):\n",
    "    '''Assume that train data and test data are pandas dataframe'''\n",
    "    model.fit(x_train, y_train)\n",
    "    pred = model.predict(x_test)\n",
    "    return pred\n",
    "\n",
    "def evaluate_model(prediction, true_values):\n",
    "    if sorted(np.unique(prediction)) != sorted(np.unique(true_values)):\n",
    "        raise TypeError\n",
    "    print(confusion_matrix(true_values, prediction))\n",
    "    fpr, tpr, thresholds = metrics.roc_curve(true_values, prediction, pos_label=1)\n",
    "    return accuracy_score(true_values, prediction), round(metrics.auc(fpr, tpr),3)"
   ]
  },
  {
   "cell_type": "code",
   "execution_count": 518,
   "metadata": {},
   "outputs": [
    {
     "data": {
      "text/plain": [
       "(800, 200)"
      ]
     },
     "execution_count": 518,
     "metadata": {},
     "output_type": "execute_result"
    }
   ],
   "source": [
    "X, y = impute_df.loc[:, impute_df.columns != 'Outcome'].values, impute_df['Outcome'].values\n",
    "X_train, X_test, y_train, y_test = train_test_split(X, y, test_size=0.2, random_state=40)\n",
    "len(X_train), len(X_test)"
   ]
  },
  {
   "cell_type": "code",
   "execution_count": 519,
   "metadata": {},
   "outputs": [],
   "source": [
    "features = impute_df.columns[:-1]"
   ]
  },
  {
   "cell_type": "code",
   "execution_count": 522,
   "metadata": {},
   "outputs": [
    {
     "name": "stdout",
     "output_type": "stream",
     "text": [
      "GaussianNB()\n",
      "[[76 20]\n",
      " [33 71]]\n",
      "(0.735, 0.737)\n",
      "DecisionTreeClassifier(random_state=0)\n",
      "[[74 22]\n",
      " [ 7 97]]\n",
      "(0.855, 0.852)\n",
      "Pregnancies: 0.07\n",
      "Glucose: 0.295\n",
      "BloodPressure: 0.06\n",
      "SkinThickness: 0.041\n",
      "Insulin: 0.043\n",
      "BMI: 0.18\n",
      "DiabetesPedigreeFunction: 0.184\n",
      "Age: 0.127\n",
      "RandomForestClassifier(max_depth=10, random_state=0)\n",
      "[[79 17]\n",
      " [ 7 97]]\n",
      "(0.88, 0.878)\n",
      "Pregnancies: 0.08\n",
      "Glucose: 0.252\n",
      "BloodPressure: 0.072\n",
      "SkinThickness: 0.078\n",
      "Insulin: 0.089\n",
      "BMI: 0.168\n",
      "DiabetesPedigreeFunction: 0.113\n",
      "Age: 0.148\n",
      "LogisticRegression(max_iter=50, random_state=0, solver='liblinear')\n",
      "[[79 17]\n",
      " [30 74]]\n",
      "(0.765, 0.767)\n"
     ]
    }
   ],
   "source": [
    "#Models\n",
    "gnb = GaussianNB()\n",
    "decisiontreecls = DecisionTreeClassifier(random_state=0)\n",
    "randomforestcls = RandomForestClassifier(max_depth=10, random_state=0)\n",
    "lgcls = LogisticRegression(random_state=0, max_iter=50, solver='liblinear')\n",
    "\n",
    "models = [gnb, decisiontreecls, randomforestcls, lgcls]\n",
    "\n",
    "for model in models:\n",
    "    pred = predict(model, X_train, X_test, y_train, y_test)\n",
    "    print(model)\n",
    "    print(evaluate_model(pred, y_test))\n",
    "    try:\n",
    "        for i,j in enumerate(features):\n",
    "            print(f'{j}:', round(model.feature_importances_[i],3))\n",
    "    except:\n",
    "        pass"
   ]
  },
  {
   "cell_type": "code",
   "execution_count": null,
   "metadata": {},
   "outputs": [],
   "source": [
    "#My best model was RandomForestClassifier - 0.88 accuracy and 0.878 AUC."
   ]
  }
 ],
 "metadata": {
  "kernelspec": {
   "display_name": "Python 3",
   "language": "python",
   "name": "python3"
  },
  "language_info": {
   "codemirror_mode": {
    "name": "ipython",
    "version": 3
   },
   "file_extension": ".py",
   "mimetype": "text/x-python",
   "name": "python",
   "nbconvert_exporter": "python",
   "pygments_lexer": "ipython3",
   "version": "3.8.3"
  }
 },
 "nbformat": 4,
 "nbformat_minor": 2
}
