{
 "cells": [
  {
   "cell_type": "code",
   "execution_count": 1,
   "metadata": {},
   "outputs": [],
   "source": [
    "'''\n",
    "dict1 = { 'x': 15,3, 'y':11}\n",
    "dict2 = { 'x': 15, 'y':10}\n",
    "Różnica między x a y jest mniejsza, bądź równa delcie\n",
    "'''\n",
    "\n",
    "dict1 = { 'z': 14, 'x': 15.3 , 'y':11,}\n",
    "dict2 = {  'y':10, 'x': 15, 'z': 13}\n",
    "delta = 1\n",
    "\n",
    "#1 podejście: zapamiętać indexy sortowania po kluczach, posortować tak wartości, porównać pętlą\n",
    "def is_equal(dict1, dict2, delta):\n",
    "    for i,j in enumerate(sorted(dict1)):\n",
    "        if abs(dict1[sorted(dict1.keys())[i]] - delta) <= abs(dict2[sorted(dict2.keys())[i]]):\n",
    "            result = True\n",
    "        else:\n",
    "            result = False\n",
    "            return result\n",
    "    return result\n",
    "\n",
    "#2 podejście: settery\n",
    "\n",
    "assert(is_equal(dict1, dict2, delta))\n",
    "# is_equal(dict1,dict2,delta)"
   ]
  }
 ],
 "metadata": {
  "hide_input": false,
  "kernelspec": {
   "display_name": "Python 3",
   "language": "python",
   "name": "python3"
  },
  "language_info": {
   "codemirror_mode": {
    "name": "ipython",
    "version": 3
   },
   "file_extension": ".py",
   "mimetype": "text/x-python",
   "name": "python",
   "nbconvert_exporter": "python",
   "pygments_lexer": "ipython3",
   "version": "3.7.4"
  }
 },
 "nbformat": 4,
 "nbformat_minor": 2
}
