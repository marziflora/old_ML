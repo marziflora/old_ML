{
 "cells": [
  {
   "cell_type": "code",
   "execution_count": 15,
   "metadata": {},
   "outputs": [],
   "source": [
    "import pyspark\n",
    "import pyspark as spark\n",
    "import pandas as pd\n",
    "import matplotlib.pyplot as plt\n",
    "import numpy as np\n",
    "import matplotlib.pyplot as plt\n",
    "plt.rcParams['axes.facecolor'] = 'white'\n",
    "plt.rcParams['figure.facecolor'] = 'white'\n",
    "plt.rcParams['text.color'] = 'black'\n",
    "plt.rcParams['axes.labelcolor'] =  'black'\n",
    "plt.rcParams['xtick.color'] =  'black'\n",
    "plt.rcParams['ytick.color'] =  'black'\n",
    "font = {'family' : 'serif',\n",
    "        'size'   : 15}\n",
    "plt.rc('font', **font)"
   ]
  },
  {
   "cell_type": "code",
   "execution_count": null,
   "metadata": {},
   "outputs": [],
   "source": []
  },
  {
   "cell_type": "code",
   "execution_count": 56,
   "metadata": {},
   "outputs": [],
   "source": [
    "from pyspark.sql import SQLContext\n",
    "from pyspark.sql.functions import isnan, when, count, col, translate\n",
    "from pyspark.sql.types import IntegerType\n",
    "from pyspark.sql.types import FloatType\n",
    "from pyspark.sql import functions as F\n",
    "\n",
    "sqlContext = SQLContext(sc)"
   ]
  },
  {
   "cell_type": "code",
   "execution_count": 61,
   "metadata": {},
   "outputs": [
    {
     "data": {
      "text/plain": [
       "4448"
      ]
     },
     "execution_count": 61,
     "metadata": {},
     "output_type": "execute_result"
    }
   ],
   "source": [
    "df_spark = sqlContext.read.csv(\"Mentalhealth.csv\", header=True, inferSchema = False)\n",
    "df_spark.count()"
   ]
  },
  {
   "cell_type": "code",
   "execution_count": 62,
   "metadata": {},
   "outputs": [
    {
     "name": "stdout",
     "output_type": "stream",
     "text": [
      "root\n",
      " |-- 1: What is your age?: string (nullable = true)\n",
      " |-- 2: What is your gender?: string (nullable = true)\n",
      " |-- 3: What country do you live in?: string (nullable = true)\n",
      " |-- 4: If you live in the United States, which state or territory do you live in?: string (nullable = true)\n",
      " |-- 5: Are you self-employed?: string (nullable = true)\n",
      " |-- 6: Do you have a family history of mental illness?: string (nullable = true)\n",
      " |-- 7: Have you ever sought treatment for a mental health disorder from a mental health professional?: string (nullable = true)\n",
      " |-- 8: How many employees does your company or organization have?: string (nullable = true)\n",
      " |-- 9: Is your employer primarily a tech company/organization?: string (nullable = true)\n",
      " |-- 10: Does your employer provide mental health benefits as part of healthcare coverage?: string (nullable = true)\n",
      " |-- 11: Is your anonymity protected if you choose to take advantage of mental health or substance abuse treatment resources provided by your employer?: string (nullable = true)\n",
      " |-- 12: Would you bring up a mental health issue with a potential employer in an interview?: string (nullable = true)\n",
      " |-- 13: Is your primary role within your company related to tech/IT?: string (nullable = true)\n",
      " |-- 14: Do you know the options for mental health care available under your employer-provided health coverage?: string (nullable = true)\n",
      " |-- 15: Has your employer ever formally discussed mental health (for example, as part of a wellness campaign or other official communication)?: string (nullable = true)\n",
      " |-- 16: Does your employer offer resources to learn more about mental health disorders and options for seeking help?: string (nullable = true)\n",
      " |-- 17: If a mental health issue prompted you to request a medical leave from work, how easy or difficult would it be to ask for that leave?: string (nullable = true)\n",
      " |-- 18: Would you feel comfortable discussing a mental health issue with your coworkers?: string (nullable = true)\n",
      " |-- 19: Would you feel comfortable discussing a mental health issue with your direct supervisor(s)?: string (nullable = true)\n",
      " |-- 20: Do you have medical coverage (private insurance or state-provided) that includes treatment of mental health disorders?: string (nullable = true)\n",
      " |-- 21: Do you know local or online resources to seek help for a mental health issue?: string (nullable = true)\n",
      " |-- 22: Do you have previous employers?: string (nullable = true)\n",
      " |-- 23: Have your previous employers provided mental health benefits?: string (nullable = true)\n",
      " |-- 24: Were you aware of the options for mental health care provided by your previous employers?: string (nullable = true)\n",
      " |-- 25: Did your previous employers ever formally discuss mental health (as part of a wellness campaign or other official communication)?: string (nullable = true)\n",
      " |-- 26: Did your previous employers provide resources to learn more about mental health disorders and how to seek help?: string (nullable = true)\n",
      " |-- 27: Was your anonymity protected if you chose to take advantage of mental health or substance abuse treatment resources with previous employers?: string (nullable = true)\n",
      " |-- 28: Would you have been willing to discuss your mental health with your direct supervisor(s)?: string (nullable = true)\n",
      " |-- 29: Would you be willing to bring up a physical health issue with a potential employer in an interview?: string (nullable = true)\n",
      " |-- 30: How willing would you be to share with friends and family that you have a mental illness?: string (nullable = true)\n",
      " |-- 31: Have your observations of how another individual who discussed a mental health disorder made you less likely to reveal a mental health issue yourself in your current workplace?: string (nullable = true)\n",
      " |-- 32: Have you had a mental health disorder in the past?: string (nullable = true)\n",
      " |-- 33: Do you currently have a mental health disorder?: string (nullable = true)\n",
      " |-- 34: Have you ever been diagnosed with a mental health disorder?: string (nullable = true)\n",
      " |-- 48: If you have a mental health disorder, how often do you feel that it interferes with your work when being treated effectively?: string (nullable = true)\n",
      " |-- 49: If you have a mental health disorder, how often do you feel that it interferes with your work when not being treated effectively (i.e., when you are experiencing symptoms)?: string (nullable = true)\n",
      " |-- 50: What country do you work in?: string (nullable = true)\n",
      " |-- 51: What US state or territory do you work in?: string (nullable = true)\n",
      " |-- 52: If you have been diagnosed or treated for a mental health disorder, do you ever reveal this to clients or business contacts?: string (nullable = true)\n",
      " |-- 53: If you have been diagnosed or treated for a mental health disorder, do you ever reveal this to coworkers or employees?: string (nullable = true)\n",
      " |-- 54: Do you believe your productivity is ever affected by a mental health issue?: string (nullable = true)\n",
      " |-- 55: If yes, what percentage of your work time (time performing primary or secondary job functions) is affected by a mental health issue?: string (nullable = true)\n",
      " |-- 56: Have you observed or experienced an unsupportive or badly handled response to a mental health issue in your current or previous workplace?: string (nullable = true)\n",
      " |-- 57: Would you feel more comfortable talking to your coworkers about your physical health or your mental health?: string (nullable = true)\n",
      " |-- 58: Have you ever discussed your mental health with your employer?: string (nullable = true)\n",
      " |-- 59: Describe the conversation you had with your employer about your mental health, including their reactions and what actions were taken to address your mental health issue/questions.: string (nullable = true)\n",
      " |-- 60: Have you ever discussed your mental health with coworkers?: string (nullable = true)\n",
      " |-- 61: Describe the conversation with coworkers you had about your mental health including their reactions.: string (nullable = true)\n",
      " |-- 62: Have you ever had a coworker discuss their or another coworker's mental health with you?: string (nullable = true)\n",
      " |-- 63: Describe the conversation your coworker had with you about their mental health (please do not use names).: string (nullable = true)\n",
      " |-- 64: Overall, how much importance does your employer place on physical health?: string (nullable = true)\n",
      " |-- 65: Overall, how much importance does your employer place on mental health?: string (nullable = true)\n",
      " |-- 66: If you have revealed a mental health disorder to a client or business contact, how has this affected you or the relationship?: string (nullable = true)\n",
      " |-- 67: If you have revealed a mental health disorder to a coworker or employee, how has this impacted you or the relationship?: string (nullable = true)\n",
      " |-- 68: Was your employer primarily a tech company/organization?: string (nullable = true)\n",
      " |-- 69: Would you have felt more comfortable talking to your previous employer about your physical health or your mental health?: string (nullable = true)\n",
      " |-- 70: Did you ever discuss your mental health with your previous employer?: string (nullable = true)\n",
      " |-- 71: Describe the conversation you had with your previous employer about your mental health, including their reactions and actions taken to address your mental health issue/questions.: string (nullable = true)\n",
      " |-- 72: Did you ever discuss your mental health with a previous coworker(s)?: string (nullable = true)\n",
      " |-- 73: Describe the conversation you had with your previous coworkers about your mental health including their reactions.: string (nullable = true)\n",
      " |-- 74: Did you ever have a previous coworker discuss their or another coworker's mental health with you?: string (nullable = true)\n",
      " |-- 75: Describe the conversation your coworker had with you about their mental health (please do not use names)..1: string (nullable = true)\n",
      " |-- 76: Overall, how much importance did your previous employer place on physical health?: string (nullable = true)\n",
      " |-- 77: Overall, how much importance did your previous employer place on mental health?: string (nullable = true)\n",
      " |-- 78: Are you openly identified at work as a person with a mental health issue?: string (nullable = true)\n",
      " |-- 79: Has being identified as a person with a mental health issue affected your career?: string (nullable = true)\n",
      " |-- 80: How has it affected your career?: string (nullable = true)\n",
      " |-- 81: If they knew you suffered from a mental health disorder, how do you think that your team members/co-workers would react?: string (nullable = true)\n",
      " |-- 82: Describe the circumstances of the badly handled or unsupportive response.: string (nullable = true)\n",
      " |-- 83: Have you observed or experienced supportive or well handled response to a mental health issue in your current or previous workplace?: string (nullable = true)\n",
      " |-- 84: Describe the circumstances of the supportive or well handled response.: string (nullable = true)\n",
      " |-- 85: Overall, how well do you think the tech industry supports employees with mental health issues?: string (nullable = true)\n",
      " |-- 86: Briefly describe what you think the industry as a whole and/or employers could do to improve mental health support for employees.: string (nullable = true)\n",
      " |-- 87: If there is anything else you would like to tell us that has not been covered by the survey questions, please use this space to do so.: string (nullable = true)\n",
      " |-- 88: Would you be willing to talk to one of us more extensively about your experiences with mental health issues in the tech industry? (Note that all interview responses would be used _anonymously_ and only with your permission.): string (nullable = true)\n",
      " |-- 89: What is your race?: string (nullable = true)\n",
      " |-- 90: Do you think that discussing a physical health issue with your employer would have negative consequences?: string (nullable = true)\n",
      " |-- 91: Do you feel that your employer takes mental health as seriously as physical health?: string (nullable = true)\n",
      " |-- 92: If you have a mental health condition, do you feel that it interferes with your work?: string (nullable = true)\n",
      " |-- 93: Do you work remotely (outside of an office) at least 50% of the time?: string (nullable = true)\n",
      " |-- 94: Do you know the options for mental health care your employer provides?: string (nullable = true)\n",
      " |-- 95: Has your employer ever discussed mental health as part of an employee wellness program?: string (nullable = true)\n",
      " |-- 96: Does your employer provide resources to learn more about mental health issues and how to seek help?: string (nullable = true)\n",
      " |-- 97: How easy is it for you to take medical leave for a mental health condition?: string (nullable = true)\n",
      " |-- 98: Do you think that discussing a mental health issue with your employer would have negative consequences?: string (nullable = true)\n",
      " |-- 99: Would you be willing to discuss a mental health issue with your coworkers?: string (nullable = true)\n",
      " |-- 100: Would you be willing to discuss a mental health issue with your direct supervisor(s)?: string (nullable = true)\n",
      " |-- 101: Would you bring up a physical health issue with a potential employer in an interview?: string (nullable = true)\n",
      " |-- 102: Have you heard of or observed negative consequences for coworkers with mental health conditions in your workplace?: string (nullable = true)\n",
      " |-- 103: Any additional notes or comments: string (nullable = true)\n",
      " |-- 104: Do you think that discussing a mental health disorder with your employer would have negative consequences?: string (nullable = true)\n",
      " |-- 105: Have you heard of or observed negative consequences for co-workers who have been open about mental health issues in your workplace?: string (nullable = true)\n",
      " |-- 106: If you have revealed a mental health issue to a client or business contact, do you believe this has impacted you negatively?: string (nullable = true)\n",
      " |-- 107: If you have revealed a mental health issue to a coworker or employee, do you believe this has impacted you negatively?: string (nullable = true)\n",
      " |-- 108: Do you think that discussing a mental health disorder with previous employers would have negative consequences?: string (nullable = true)\n",
      " |-- 109: Do you think that discussing a physical health issue with previous employers would have negative consequences?: string (nullable = true)\n",
      " |-- 110: Would you have been willing to discuss a mental health issue with your previous co-workers?: string (nullable = true)\n",
      " |-- 111: Did you feel that your previous employers took mental health as seriously as physical health?: string (nullable = true)\n",
      " |-- 112: Did you hear of or observe negative consequences for co-workers with mental health issues in your previous workplaces?: string (nullable = true)\n",
      " |-- 113: Do you feel that being identified as a person with a mental health issue would hurt your career?: string (nullable = true)\n",
      " |-- 114: Do you think that team members/co-workers would view you more negatively if they knew you suffered from a mental health issue?: string (nullable = true)\n",
      " |-- 115: If yes, what condition(s) have you been diagnosed with?: string (nullable = true)\n",
      " |-- 116: If maybe, what condition(s) do you believe you have?: string (nullable = true)\n",
      " |-- 117: Which of the following best describes your work position?: string (nullable = true)\n",
      " |-- 118: Do you work remotely?: string (nullable = true)\n",
      "\n"
     ]
    }
   ],
   "source": [
    "df_spark.printSchema()"
   ]
  },
  {
   "cell_type": "code",
   "execution_count": 68,
   "metadata": {},
   "outputs": [
    {
     "name": "stdout",
     "output_type": "stream",
     "text": [
      "Record count is: 16\n"
     ]
    }
   ],
   "source": [
    "appName = \"Python Example - PySpark Read CSV\"\n",
    "master = 'local'\n",
    "\n",
    "# Create Spark session\n",
    "spark = SparkSession.builder \\\n",
    "    .master(master) \\\n",
    "    .appName(appName) \\\n",
    "    .getOrCreate()\n",
    "\n",
    "# Convert list to data frame\n",
    "df = spark.read.format('csv') \\\n",
    "                .option('header',True) \\\n",
    "                .load('gus.csv')\n",
    "\n",
    "print(f'Record count is: {df.count()}')"
   ]
  },
  {
   "cell_type": "code",
   "execution_count": 69,
   "metadata": {
    "scrolled": false
   },
   "outputs": [
    {
     "name": "stdout",
     "output_type": "stream",
     "text": [
      "+----------------------------------------------------------------------------------------------------------------------------------------------------------------------------------------------------------------------------------------------------------------------------------------------------------------------------------------------------------------------------------------------------------------------------------------------------------------------------------------------------------------------------------------------------------------------------------------------------------------------------------------------------------------------------+\n",
      "|ludnosc do 15 lat;ludnosc 15-60 lat;ludnosc >60 lat;mieszkan wyprodukowanych;studenci artystyczne;studenci spoleczne;studenci ekonomia;studenci prawne;studenci dziennikarstwo;studenci biologiczne;studenci fizyczne;studenci matematyczno statystyczne;studenci informatyczne;studenci medyczne;studenci inzynieryjno techniczne;studenci produkcja i przetworstwo;studenci architektura i budownictwo;studenci na ochrona srodowiska;studenci na ochrona i bezpieczenstwo;nauczycieli akademickich;dochod budzetu na mieszkanca;pracujacy.rolnictwo;pracujacy.przemysl;pracujacy.uslugi;bezrobotni;powierzchnia.na.mieszkanie;powierzchnia.na.osobe;mieszkancow.na.sklep;|\n",
      "+----------------------------------------------------------------------------------------------------------------------------------------------------------------------------------------------------------------------------------------------------------------------------------------------------------------------------------------------------------------------------------------------------------------------------------------------------------------------------------------------------------------------------------------------------------------------------------------------------------------------------------------------------------------------------+\n",
      "|                                                                                                                                                                                                                                                                                                                                                                                                                                                                                                                                                                                                                                                        DOLNOSLASKIE;4098...|\n",
      "+----------------------------------------------------------------------------------------------------------------------------------------------------------------------------------------------------------------------------------------------------------------------------------------------------------------------------------------------------------------------------------------------------------------------------------------------------------------------------------------------------------------------------------------------------------------------------------------------------------------------------------------------------------------------------+\n",
      "only showing top 1 row\n",
      "\n"
     ]
    }
   ],
   "source": [
    "df.show(1)"
   ]
  },
  {
   "cell_type": "code",
   "execution_count": 33,
   "metadata": {},
   "outputs": [
    {
     "data": {
      "text/plain": [
       "['1: What is your age?',\n",
       " '2: What is your gender?',\n",
       " '3: What country do you live in?',\n",
       " '4: If you live in the United States, which state or territory do you live in?',\n",
       " '5: Are you self-employed?',\n",
       " '6: Do you have a family history of mental illness?',\n",
       " '7: Have you ever sought treatment for a mental health disorder from a mental health professional?',\n",
       " '8: How many employees does your company or organization have?',\n",
       " '9: Is your employer primarily a tech company/organization?',\n",
       " '10: Does your employer provide mental health benefits as part of healthcare coverage?']"
      ]
     },
     "execution_count": 33,
     "metadata": {},
     "output_type": "execute_result"
    }
   ],
   "source": [
    "df.columns[0:10]"
   ]
  },
  {
   "cell_type": "code",
   "execution_count": 35,
   "metadata": {},
   "outputs": [
    {
     "data": {
      "text/plain": [
       "[('1: What is your age?', 'string'),\n",
       " ('2: What is your gender?', 'string'),\n",
       " ('3: What country do you live in?', 'string'),\n",
       " ('4: If you live in the United States, which state or territory do you live in?',\n",
       "  'string'),\n",
       " ('5: Are you self-employed?', 'string'),\n",
       " ('6: Do you have a family history of mental illness?', 'string'),\n",
       " ('7: Have you ever sought treatment for a mental health disorder from a mental health professional?',\n",
       "  'string'),\n",
       " ('8: How many employees does your company or organization have?', 'string'),\n",
       " ('9: Is your employer primarily a tech company/organization?', 'string'),\n",
       " ('10: Does your employer provide mental health benefits as part of healthcare coverage?',\n",
       "  'string')]"
      ]
     },
     "execution_count": 35,
     "metadata": {},
     "output_type": "execute_result"
    }
   ],
   "source": [
    "df.dtypes[0:10]"
   ]
  },
  {
   "cell_type": "code",
   "execution_count": null,
   "metadata": {},
   "outputs": [],
   "source": [
    "#change columns\n",
    "#df.toDF('a', 'b', 'c')"
   ]
  },
  {
   "cell_type": "code",
   "execution_count": 40,
   "metadata": {},
   "outputs": [
    {
     "name": "stdout",
     "output_type": "stream",
     "text": [
      "+---+-----------------------+-------------------------------+-----------------------------------------------------------------------------+-------------------------+--------------------------------------------------+-------------------------------------------------------------------------------------------------+-------------------------------------------------------------+----------------------------------------------------------+-------------------------------------------------------------------------------------+--------------------------------------------------------------------------------------------------------------------------------------------------+---------------------------------------------------------------------------------------+----------------------------------------------------------------+----------------------------------------------------------------------------------------------------------+------------------------------------------------------------------------------------------------------------------------------------------+----------------------------------------------------------------------------------------------------------------+----------------------------------------------------------------------------------------------------------------------------------------+------------------------------------------------------------------------------------+-----------------------------------------------------------------------------------------------+--------------------------------------------------------------------------------------------------------------------------+---------------------------------------------------------------------------------+-----------------------------------+-----------------------------------------------------------------+---------------------------------------------------------------------------------------------+-------------------------------------------------------------------------------------------------------------------------------------+-------------------------------------------------------------------------------------------------------------------+------------------------------------------------------------------------------------------------------------------------------------------------+---------------------------------------------------------------------------------------------+-------------------------------------------------------------------------------------------------------+---------------------------------------------------------------------------------------------+------------------------------------------------------------------------------------------------------------------------------------------------------------------------------------+------------------------------------------------------+---------------------------------------------------+---------------------------------------------------------------+---------------------------------------------------------------------------------------------------------------------------------+--------------------------------------------------------------------------------------------------------------------------------------------------------------------------------+--------------------------------+----------------------------------------------+--------------------------------------------------------------------------------------------------------------------------------+--------------------------------------------------------------------------------------------------------------------------+-------------------------------------------------------------------------------+----------------------------------------------------------------------------------------------------------------------------------------+----------------------------------------------------------------------------------------------------------------------------------------------+---------------------------------------------------------------------------------------------------------------+------------------------------------------------------------------+---------------------------------------------------------------------------------------------------------------------------------------------------------------------------------------+--------------------------------------------------------------+--------------------------------------------------------------------------------------------------------+--------------------------------------------------------------------------------------------+-------------------------------------------------------------------------------------------------------------+-----------------------------------------------------------------------------+---------------------------------------------------------------------------+---------------------------------------------------------------------------------------------------------------------------------+---------------------------------------------------------------------------------------------------------------------------+------------------------------------------------------------+----------------------------------------------------------------------------------------------------------------------------+------------------------------------------------------------------------+--------------------------------------------------------------------------------------------------------------------------------------------------------------------------------------+------------------------------------------------------------------------+----------------------------------------------------------------------------------------------------------------------+-----------------------------------------------------------------------------------------------------+---------------------------------------------------------------------------------------------------------------+-------------------------------------------------------------------------------------+-----------------------------------------------------------------------------------+-----------------------------------------------------------------------------+-------------------------------------------------------------------------------------+------------------------------------+----------------------------------------------------------------------------------------------------------------------------+-----------------------------------------------------------------------------+----------------------------------------------------------------------------------------------------------------------------------------+--------------------------------------------------------------------------+--------------------------------------------------------------------------------------------------+-------------------------------------------------------------------------------------------------------------------------------------+------------------------------------------------------------------------------------------------------------------------------------------+------------------------------------------------------------------------------------------------------------------------------------------------------------------------------------------------------------------------------------+----------------------+-------------------------------------------------------------------------------------------------------------+---------------------------------------------------------------------------------------+-----------------------------------------------------------------------------------------+-------------------------------------------------------------------------+--------------------------------------------------------------------------+-------------------------------------------------------------------------------------------+-------------------------------------------------------------------------------------------------------+-------------------------------------------------------------------------------+-----------------------------------------------------------------------------------------------------------+------------------------------------------------------------------------------+------------------------------------------------------------------------------------------+------------------------------------------------------------------------------------------+-----------------------------------------------------------------------------------------------------------------------+-------------------------------------+---------------------------------------------------------------------------------------------------------------+----------------------------------------------------------------------------------------------------------------------------------------+---------------------------------------------------------------------------------------------------------------------------------+---------------------------------------------------------------------------------------------------------------------------+--------------------------------------------------------------------------------------------------------------------+-------------------------------------------------------------------------------------------------------------------+------------------------------------------------------------------------------------------------+--------------------------------------------------------------------------------------------------+---------------------------------------------------------------------------------------------------------------------------+-----------------------------------------------------------------------------------------------------+-----------------------------------------------------------------------------------------------------------------------------------+------------------------------------------------------------+---------------------------------------------------------+--------------------------------------------------------------+--------------------------+\n",
      "|Age|2: What is your gender?|3: What country do you live in?|4: If you live in the United States, which state or territory do you live in?|5: Are you self-employed?|6: Do you have a family history of mental illness?|7: Have you ever sought treatment for a mental health disorder from a mental health professional?|8: How many employees does your company or organization have?|9: Is your employer primarily a tech company/organization?|10: Does your employer provide mental health benefits as part of healthcare coverage?|11: Is your anonymity protected if you choose to take advantage of mental health or substance abuse treatment resources provided by your employer?|12: Would you bring up a mental health issue with a potential employer in an interview?|13: Is your primary role within your company related to tech/IT?|14: Do you know the options for mental health care available under your employer-provided health coverage?|15: Has your employer ever formally discussed mental health (for example, as part of a wellness campaign or other official communication)?|16: Does your employer offer resources to learn more about mental health disorders and options for seeking help?|17: If a mental health issue prompted you to request a medical leave from work, how easy or difficult would it be to ask for that leave?|18: Would you feel comfortable discussing a mental health issue with your coworkers?|19: Would you feel comfortable discussing a mental health issue with your direct supervisor(s)?|20: Do you have medical coverage (private insurance or state-provided) that includes treatment of mental health disorders?|21: Do you know local or online resources to seek help for a mental health issue?|22: Do you have previous employers?|23: Have your previous employers provided mental health benefits?|24: Were you aware of the options for mental health care provided by your previous employers?|25: Did your previous employers ever formally discuss mental health (as part of a wellness campaign or other official communication)?|26: Did your previous employers provide resources to learn more about mental health disorders and how to seek help?|27: Was your anonymity protected if you chose to take advantage of mental health or substance abuse treatment resources with previous employers?|28: Would you have been willing to discuss your mental health with your direct supervisor(s)?|29: Would you be willing to bring up a physical health issue with a potential employer in an interview?|30: How willing would you be to share with friends and family that you have a mental illness?|31: Have your observations of how another individual who discussed a mental health disorder made you less likely to reveal a mental health issue yourself in your current workplace?|32: Have you had a mental health disorder in the past?|33: Do you currently have a mental health disorder?|34: Have you ever been diagnosed with a mental health disorder?|48: If you have a mental health disorder, how often do you feel that it interferes with your work when being treated effectively?|49: If you have a mental health disorder, how often do you feel that it interferes with your work when not being treated effectively (i.e., when you are experiencing symptoms)?|50: What country do you work in?|51: What US state or territory do you work in?|52: If you have been diagnosed or treated for a mental health disorder, do you ever reveal this to clients or business contacts?|53: If you have been diagnosed or treated for a mental health disorder, do you ever reveal this to coworkers or employees?|54: Do you believe your productivity is ever affected by a mental health issue?|55: If yes, what percentage of your work time (time performing primary or secondary job functions) is affected by a mental health issue?|56: Have you observed or experienced an unsupportive or badly handled response to a mental health issue in your current or previous workplace?|57: Would you feel more comfortable talking to your coworkers about your physical health or your mental health?|58: Have you ever discussed your mental health with your employer?|59: Describe the conversation you had with your employer about your mental health, including their reactions and what actions were taken to address your mental health issue/questions.|60: Have you ever discussed your mental health with coworkers?|61: Describe the conversation with coworkers you had about your mental health including their reactions.|62: Have you ever had a coworker discuss their or another coworker's mental health with you?|63: Describe the conversation your coworker had with you about their mental health (please do not use names).|64: Overall, how much importance does your employer place on physical health?|65: Overall, how much importance does your employer place on mental health?|66: If you have revealed a mental health disorder to a client or business contact, how has this affected you or the relationship?|67: If you have revealed a mental health disorder to a coworker or employee, how has this impacted you or the relationship?|68: Was your employer primarily a tech company/organization?|69: Would you have felt more comfortable talking to your previous employer about your physical health or your mental health?|70: Did you ever discuss your mental health with your previous employer?|71: Describe the conversation you had with your previous employer about your mental health, including their reactions and actions taken to address your mental health issue/questions.|72: Did you ever discuss your mental health with a previous coworker(s)?|73: Describe the conversation you had with your previous coworkers about your mental health including their reactions.|74: Did you ever have a previous coworker discuss their or another coworker's mental health with you?|75: Describe the conversation your coworker had with you about their mental health (please do not use names)..1|76: Overall, how much importance did your previous employer place on physical health?|77: Overall, how much importance did your previous employer place on mental health?|78: Are you openly identified at work as a person with a mental health issue?|79: Has being identified as a person with a mental health issue affected your career?|80: How has it affected your career?|81: If they knew you suffered from a mental health disorder, how do you think that your team members/co-workers would react?|82: Describe the circumstances of the badly handled or unsupportive response.|83: Have you observed or experienced supportive or well handled response to a mental health issue in your current or previous workplace?|84: Describe the circumstances of the supportive or well handled response.|85: Overall, how well do you think the tech industry supports employees with mental health issues?|86: Briefly describe what you think the industry as a whole and/or employers could do to improve mental health support for employees.|87: If there is anything else you would like to tell us that has not been covered by the survey questions, please use this space to do so.|88: Would you be willing to talk to one of us more extensively about your experiences with mental health issues in the tech industry? (Note that all interview responses would be used _anonymously_ and only with your permission.)|89: What is your race?|90: Do you think that discussing a physical health issue with your employer would have negative consequences?|91: Do you feel that your employer takes mental health as seriously as physical health?|92: If you have a mental health condition, do you feel that it interferes with your work?|93: Do you work remotely (outside of an office) at least 50% of the time?|94: Do you know the options for mental health care your employer provides?|95: Has your employer ever discussed mental health as part of an employee wellness program?|96: Does your employer provide resources to learn more about mental health issues and how to seek help?|97: How easy is it for you to take medical leave for a mental health condition?|98: Do you think that discussing a mental health issue with your employer would have negative consequences?|99: Would you be willing to discuss a mental health issue with your coworkers?|100: Would you be willing to discuss a mental health issue with your direct supervisor(s)?|101: Would you bring up a physical health issue with a potential employer in an interview?|102: Have you heard of or observed negative consequences for coworkers with mental health conditions in your workplace?|103: Any additional notes or comments|104: Do you think that discussing a mental health disorder with your employer would have negative consequences?|105: Have you heard of or observed negative consequences for co-workers who have been open about mental health issues in your workplace?|106: If you have revealed a mental health issue to a client or business contact, do you believe this has impacted you negatively?|107: If you have revealed a mental health issue to a coworker or employee, do you believe this has impacted you negatively?|108: Do you think that discussing a mental health disorder with previous employers would have negative consequences?|109: Do you think that discussing a physical health issue with previous employers would have negative consequences?|110: Would you have been willing to discuss a mental health issue with your previous co-workers?|111: Did you feel that your previous employers took mental health as seriously as physical health?|112: Did you hear of or observe negative consequences for co-workers with mental health issues in your previous workplaces?|113: Do you feel that being identified as a person with a mental health issue would hurt your career?|114: Do you think that team members/co-workers would view you more negatively if they knew you suffered from a mental health issue?|115: If yes, what condition(s) have you been diagnosed with?|116: If maybe, what condition(s) do you believe you have?|117: Which of the following best describes your work position?|118: Do you work remotely?|\n",
      "+---+-----------------------+-------------------------------+-----------------------------------------------------------------------------+-------------------------+--------------------------------------------------+-------------------------------------------------------------------------------------------------+-------------------------------------------------------------+----------------------------------------------------------+-------------------------------------------------------------------------------------+--------------------------------------------------------------------------------------------------------------------------------------------------+---------------------------------------------------------------------------------------+----------------------------------------------------------------+----------------------------------------------------------------------------------------------------------+------------------------------------------------------------------------------------------------------------------------------------------+----------------------------------------------------------------------------------------------------------------+----------------------------------------------------------------------------------------------------------------------------------------+------------------------------------------------------------------------------------+-----------------------------------------------------------------------------------------------+--------------------------------------------------------------------------------------------------------------------------+---------------------------------------------------------------------------------+-----------------------------------+-----------------------------------------------------------------+---------------------------------------------------------------------------------------------+-------------------------------------------------------------------------------------------------------------------------------------+-------------------------------------------------------------------------------------------------------------------+------------------------------------------------------------------------------------------------------------------------------------------------+---------------------------------------------------------------------------------------------+-------------------------------------------------------------------------------------------------------+---------------------------------------------------------------------------------------------+------------------------------------------------------------------------------------------------------------------------------------------------------------------------------------+------------------------------------------------------+---------------------------------------------------+---------------------------------------------------------------+---------------------------------------------------------------------------------------------------------------------------------+--------------------------------------------------------------------------------------------------------------------------------------------------------------------------------+--------------------------------+----------------------------------------------+--------------------------------------------------------------------------------------------------------------------------------+--------------------------------------------------------------------------------------------------------------------------+-------------------------------------------------------------------------------+----------------------------------------------------------------------------------------------------------------------------------------+----------------------------------------------------------------------------------------------------------------------------------------------+---------------------------------------------------------------------------------------------------------------+------------------------------------------------------------------+---------------------------------------------------------------------------------------------------------------------------------------------------------------------------------------+--------------------------------------------------------------+--------------------------------------------------------------------------------------------------------+--------------------------------------------------------------------------------------------+-------------------------------------------------------------------------------------------------------------+-----------------------------------------------------------------------------+---------------------------------------------------------------------------+---------------------------------------------------------------------------------------------------------------------------------+---------------------------------------------------------------------------------------------------------------------------+------------------------------------------------------------+----------------------------------------------------------------------------------------------------------------------------+------------------------------------------------------------------------+--------------------------------------------------------------------------------------------------------------------------------------------------------------------------------------+------------------------------------------------------------------------+----------------------------------------------------------------------------------------------------------------------+-----------------------------------------------------------------------------------------------------+---------------------------------------------------------------------------------------------------------------+-------------------------------------------------------------------------------------+-----------------------------------------------------------------------------------+-----------------------------------------------------------------------------+-------------------------------------------------------------------------------------+------------------------------------+----------------------------------------------------------------------------------------------------------------------------+-----------------------------------------------------------------------------+----------------------------------------------------------------------------------------------------------------------------------------+--------------------------------------------------------------------------+--------------------------------------------------------------------------------------------------+-------------------------------------------------------------------------------------------------------------------------------------+------------------------------------------------------------------------------------------------------------------------------------------+------------------------------------------------------------------------------------------------------------------------------------------------------------------------------------------------------------------------------------+----------------------+-------------------------------------------------------------------------------------------------------------+---------------------------------------------------------------------------------------+-----------------------------------------------------------------------------------------+-------------------------------------------------------------------------+--------------------------------------------------------------------------+-------------------------------------------------------------------------------------------+-------------------------------------------------------------------------------------------------------+-------------------------------------------------------------------------------+-----------------------------------------------------------------------------------------------------------+------------------------------------------------------------------------------+------------------------------------------------------------------------------------------+------------------------------------------------------------------------------------------+-----------------------------------------------------------------------------------------------------------------------+-------------------------------------+---------------------------------------------------------------------------------------------------------------+----------------------------------------------------------------------------------------------------------------------------------------+---------------------------------------------------------------------------------------------------------------------------------+---------------------------------------------------------------------------------------------------------------------------+--------------------------------------------------------------------------------------------------------------------+-------------------------------------------------------------------------------------------------------------------+------------------------------------------------------------------------------------------------+--------------------------------------------------------------------------------------------------+---------------------------------------------------------------------------------------------------------------------------+-----------------------------------------------------------------------------------------------------+-----------------------------------------------------------------------------------------------------------------------------------+------------------------------------------------------------+---------------------------------------------------------+--------------------------------------------------------------+--------------------------+\n",
      "| 37|                 female|                  United States|                                                                     Illinois|                       -1|                                                No|                                                                                                1|                                                         6-25|                                                         1|                                                                                  Yes|                                                                                                                                               Yes|                                                                                     No|                                                               -|                                                                                                         -|                                                                                                                                         -|                                                                                                               -|                                                                                                                                       -|                                                                                   -|                                                                                              -|                                                                                                                         -|                                                                                -|                                  -|                                                                -|                                                                                            -|                                                                                                                                    -|                                                                                                                  -|                                                                                                                                               -|                                                                                            -|                                                                                                      -|                                                                                            -|                                                                                                                                                                                   -|                                                     -|                                                  -|                                                              -|                                                                                                                                -|                                                                                                                                                                               -|                               -|                                             -|                                                                                                                               -|                                                                                                                         -|                                                                              -|                                                                                                                                       -|                                                                                                                                             -|                                                                                                              -|                                                                 -|                                                                                                                                                                                      -|                                                             -|                                                                                                       -|                                                                                           -|                                                                                                            -|                                                                            -|                                                                          -|                                                                                                                                -|                                                                                                                          -|                                                           -|                                                                                                                           -|                                                                       -|                                                                                                                                                                                     -|                                                                       -|                                                                                                                     -|                                                                                                    -|                                                                                                              -|                                                                                    -|                                                                                  -|                                                                            -|                                                                                    -|                                   -|                                                                                                                           -|                                                                            -|                                                                                                                                       -|                                                                         -|                                                                                                 -|                                                                                                                                    -|                                                                                                                                         -|                                                                                                                                                                                                                                   -|                     -|                                                                                                           No|                                                                                    Yes|                                                                                    Often|                                                                       No|                                                                  Not sure|                                                                                         No|                                                                                                    Yes|                                                                  Somewhat easy|                                                                                                         No|                                                                  Some of them|                                                                                       Yes|                                                                                     Maybe|                                                                                                                     No|                                   -1|                                                                                                              -|                                                                                                                                       -|                                                                                                                                -|                                                                                                                          -|                                                                                                                   -|                                                                                                                  -|                                                                                               -|                                                                                                 -|                                                                                                                          -|                                                                                                    -|                                                                                                                                  -|                                                           -|                                                        -|                                                             -|                         -|\n",
      "+---+-----------------------+-------------------------------+-----------------------------------------------------------------------------+-------------------------+--------------------------------------------------+-------------------------------------------------------------------------------------------------+-------------------------------------------------------------+----------------------------------------------------------+-------------------------------------------------------------------------------------+--------------------------------------------------------------------------------------------------------------------------------------------------+---------------------------------------------------------------------------------------+----------------------------------------------------------------+----------------------------------------------------------------------------------------------------------+------------------------------------------------------------------------------------------------------------------------------------------+----------------------------------------------------------------------------------------------------------------+----------------------------------------------------------------------------------------------------------------------------------------+------------------------------------------------------------------------------------+-----------------------------------------------------------------------------------------------+--------------------------------------------------------------------------------------------------------------------------+---------------------------------------------------------------------------------+-----------------------------------+-----------------------------------------------------------------+---------------------------------------------------------------------------------------------+-------------------------------------------------------------------------------------------------------------------------------------+-------------------------------------------------------------------------------------------------------------------+------------------------------------------------------------------------------------------------------------------------------------------------+---------------------------------------------------------------------------------------------+-------------------------------------------------------------------------------------------------------+---------------------------------------------------------------------------------------------+------------------------------------------------------------------------------------------------------------------------------------------------------------------------------------+------------------------------------------------------+---------------------------------------------------+---------------------------------------------------------------+---------------------------------------------------------------------------------------------------------------------------------+--------------------------------------------------------------------------------------------------------------------------------------------------------------------------------+--------------------------------+----------------------------------------------+--------------------------------------------------------------------------------------------------------------------------------+--------------------------------------------------------------------------------------------------------------------------+-------------------------------------------------------------------------------+----------------------------------------------------------------------------------------------------------------------------------------+----------------------------------------------------------------------------------------------------------------------------------------------+---------------------------------------------------------------------------------------------------------------+------------------------------------------------------------------+---------------------------------------------------------------------------------------------------------------------------------------------------------------------------------------+--------------------------------------------------------------+--------------------------------------------------------------------------------------------------------+--------------------------------------------------------------------------------------------+-------------------------------------------------------------------------------------------------------------+-----------------------------------------------------------------------------+---------------------------------------------------------------------------+---------------------------------------------------------------------------------------------------------------------------------+---------------------------------------------------------------------------------------------------------------------------+------------------------------------------------------------+----------------------------------------------------------------------------------------------------------------------------+------------------------------------------------------------------------+--------------------------------------------------------------------------------------------------------------------------------------------------------------------------------------+------------------------------------------------------------------------+----------------------------------------------------------------------------------------------------------------------+-----------------------------------------------------------------------------------------------------+---------------------------------------------------------------------------------------------------------------+-------------------------------------------------------------------------------------+-----------------------------------------------------------------------------------+-----------------------------------------------------------------------------+-------------------------------------------------------------------------------------+------------------------------------+----------------------------------------------------------------------------------------------------------------------------+-----------------------------------------------------------------------------+----------------------------------------------------------------------------------------------------------------------------------------+--------------------------------------------------------------------------+--------------------------------------------------------------------------------------------------+-------------------------------------------------------------------------------------------------------------------------------------+------------------------------------------------------------------------------------------------------------------------------------------+------------------------------------------------------------------------------------------------------------------------------------------------------------------------------------------------------------------------------------+----------------------+-------------------------------------------------------------------------------------------------------------+---------------------------------------------------------------------------------------+-----------------------------------------------------------------------------------------+-------------------------------------------------------------------------+--------------------------------------------------------------------------+-------------------------------------------------------------------------------------------+-------------------------------------------------------------------------------------------------------+-------------------------------------------------------------------------------+-----------------------------------------------------------------------------------------------------------+------------------------------------------------------------------------------+------------------------------------------------------------------------------------------+------------------------------------------------------------------------------------------+-----------------------------------------------------------------------------------------------------------------------+-------------------------------------+---------------------------------------------------------------------------------------------------------------+----------------------------------------------------------------------------------------------------------------------------------------+---------------------------------------------------------------------------------------------------------------------------------+---------------------------------------------------------------------------------------------------------------------------+--------------------------------------------------------------------------------------------------------------------+-------------------------------------------------------------------------------------------------------------------+------------------------------------------------------------------------------------------------+--------------------------------------------------------------------------------------------------+---------------------------------------------------------------------------------------------------------------------------+-----------------------------------------------------------------------------------------------------+-----------------------------------------------------------------------------------------------------------------------------------+------------------------------------------------------------+---------------------------------------------------------+--------------------------------------------------------------+--------------------------+\n",
      "only showing top 1 row\n",
      "\n"
     ]
    }
   ],
   "source": [
    "df.withColumnRenamed('1: What is your age?', 'Age').show(1)"
   ]
  },
  {
   "cell_type": "code",
   "execution_count": 43,
   "metadata": {},
   "outputs": [
    {
     "data": {
      "text/plain": [
       "Column<b'2: What is your gender?'>"
      ]
     },
     "execution_count": 43,
     "metadata": {},
     "output_type": "execute_result"
    }
   ],
   "source": [
    "df.drop('1: What is your age?')[0]"
   ]
  },
  {
   "cell_type": "code",
   "execution_count": 71,
   "metadata": {},
   "outputs": [],
   "source": [
    "df = df.fillna(0)"
   ]
  },
  {
   "cell_type": "code",
   "execution_count": null,
   "metadata": {},
   "outputs": [],
   "source": []
  }
 ],
 "metadata": {
  "kernelspec": {
   "display_name": "Python 3",
   "language": "python",
   "name": "python3"
  }
 },
 "nbformat": 4,
 "nbformat_minor": 4
}
