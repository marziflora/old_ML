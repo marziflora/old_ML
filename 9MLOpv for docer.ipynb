{
 "cells": [
  {
   "cell_type": "code",
   "execution_count": null,
   "metadata": {},
   "outputs": [],
   "source": [
    "def model_fn(model_path): #Loading model\n",
    "    model = load_model('model.hdf5')\n",
    "    return model\n",
    "\n",
    "def input_fn(input_data):\n",
    "    try:\n",
    "        with open(input_data) as f:\n",
    "            data = json.load(f)\n",
    "    except:\n",
    "        print(\"There's no file\")\n",
    "    else:\n",
    "        columns = ['nr_measurement', 'time', 'nr_sensor', 'pressure', 'position', 'mode']\n",
    "        df = pd.DataFrame(columns = columns)\n",
    "        time = datetime.now(pytz.timezone('Europe/Warsaw')).strftime(\"%Y-%m-%d %H:%M:%S\")\n",
    "        frame1 = [i,time, \"0\", round(data[\"output\"]['0']['pressure'],2), data[\"output\"]['0']['position'], data[\"output\"]['0']['mode'] ]\n",
    "        frame2 = [i,time, \"1\", round(data[\"output\"]['1']['pressure'],2), data[\"output\"]['1']['position'], data[\"output\"]['1']['mode'] ]\n",
    "        frame3 = [i,time, \"2\", round(data[\"output\"]['2']['pressure'],2), data[\"output\"]['2']['position'], data[\"output\"]['2']['mode'] ]\n",
    "        frame4 = [i,time, \"3\", round(data[\"output\"]['3']['pressure'],2), data[\"output\"]['3']['position'], data[\"output\"]['3']['mode'] ]     \n",
    "        frame = pd.DataFrame( [frame1, frame2, frame3, frame4], columns = columns)\n",
    "        df = df.append(frame, sort=False)\n",
    "        i+=1\n",
    "    return df\n",
    "    \n",
    "def predict_fn(input_data, model):\n",
    "    predictions = model.predict(input_data)\n",
    "    return prediction\n",
    "\n",
    "    \n",
    "def output_fn(predicition, num):\n",
    "    time = datetime.now(pytz.timezone('Europe/Warsaw')).strftime(\"%Y-%m-%d %H:%M:%S\")\n",
    "    json = {\"time\": time,\n",
    "            \"RUL\": round(predict(),2),   #RUL - real usage life\n",
    "            \"anomaly\": random.choice((True, False)),\n",
    "            \"sensor\": randint(0, 8) }\n",
    "    file_name = str(num + \".json\")\n",
    "    s3 = boto3.resource('s3')\n",
    "    s3.Bucket(\"neurosys-intern\").put_object(Key=file_name, Body=json, ACL=\"public-read-write\")\n",
    "    \n",
    "    \n",
    "if __name__ = 'main':\n",
    "    parser = argparse.ArgumentParser() \n",
    "    # Data, model, and output directories\n",
    "    parser.add_argument('--output-data-dir', type=str, default=os.environ.get('SM_OUTPUT_DATA_DIR'))\n",
    "    parser.add_argument('--model-dir', type=str, default=os.environ.get('SM_MODEL_DIR'))\n",
    "    parser.add_argument('--train', type=str, default=os.environ.get('SM_CHANNEL_TRAIN'))\n",
    "    parser.add_argument('--test', type=str, default=os.environ.get('SM_CHANNEL_TEST'))\n",
    "  \n",
    "    input_files = [ os.path.join(args.train, file) for file in os.listdir(args.train) ]\n",
    "\n",
    "    input_fn()\n",
    "    model_fn()\n",
    "    predict_fn()\n",
    "    output_fn()"
   ]
  }
 ],
 "metadata": {
  "kernelspec": {
   "display_name": "Python 3",
   "language": "python",
   "name": "python3"
  },
  "language_info": {
   "codemirror_mode": {
    "name": "ipython",
    "version": 3
   },
   "file_extension": ".py",
   "mimetype": "text/x-python",
   "name": "python",
   "nbconvert_exporter": "python",
   "pygments_lexer": "ipython3",
   "version": "3.7.1"
  }
 },
 "nbformat": 4,
 "nbformat_minor": 2
}
